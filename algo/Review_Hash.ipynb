{
 "cells": [
  {
   "cell_type": "markdown",
   "metadata": {},
   "source": [
    "### two sum"
   ]
  },
  {
   "cell_type": "code",
   "execution_count": 1,
   "metadata": {},
   "outputs": [
    {
     "name": "stdout",
     "output_type": "stream",
     "text": [
      "[4, 1]\n"
     ]
    }
   ],
   "source": [
    "from typing import List\n",
    "\n",
    "def twoSum(nums: List[int], target: int) -> List[int]:\n",
    "    hash_table = {}\n",
    "\n",
    "    for idx, num in enumerate(nums):\n",
    "        match_num = target - num\n",
    "        match_idx = hash_table.get(match_num)\n",
    "\n",
    "        if match_idx is not None:\n",
    "            return [idx, match_idx]\n",
    "        \n",
    "        hash_table[num] = idx\n",
    "\n",
    "indices = twoSum(nums = [13,7,5,1,3,2],target=10)\n",
    "print(indices)"
   ]
  },
  {
   "cell_type": "markdown",
   "metadata": {},
   "source": [
    "### leetcode 387\n",
    "### Find first unique character\n",
    "\n",
    "https://leetcode.com/problems/first-unique-character-in-a-string/"
   ]
  },
  {
   "cell_type": "code",
   "execution_count": 1,
   "metadata": {},
   "outputs": [
    {
     "data": {
      "text/plain": [
       "2"
      ]
     },
     "execution_count": 1,
     "metadata": {},
     "output_type": "execute_result"
    }
   ],
   "source": [
    "def firstUniqueChar(s: str) -> int:\n",
    "    count = {}\n",
    "    for c in s:\n",
    "        crnt_count = count.get(c)\n",
    "        if crnt_count is None:\n",
    "            count[c] = 1\n",
    "            continue\n",
    "        count[c] += 1\n",
    "\n",
    "    for idx, c in enumerate(s):\n",
    "        if count[c] == 1:\n",
    "            return idx\n",
    "    \n",
    "    return -1\n",
    "\n",
    "firstUniqueChar('loveleetcode')"
   ]
  },
  {
   "cell_type": "markdown",
   "metadata": {},
   "source": [
    "### leetcode 205\n",
    "### Isomorphic Strings\n",
    "https://leetcode.com/problems/isomorphic-strings/\n"
   ]
  },
  {
   "cell_type": "code",
   "execution_count": 2,
   "metadata": {},
   "outputs": [
    {
     "data": {
      "text/plain": [
       "True"
      ]
     },
     "execution_count": 2,
     "metadata": {},
     "output_type": "execute_result"
    }
   ],
   "source": [
    "def isIsomorphic(s: str, t: str) -> bool:\n",
    "    if len(s) != len(t):\n",
    "        return False\n",
    "    str_length = len(s)\n",
    "\n",
    "    table1 = {}\n",
    "    table2 = {}\n",
    "\n",
    "    for idx in range(0, str_length):\n",
    "        match1 = table1.get(s[idx])\n",
    "        match2 = table2.get(t[idx])\n",
    "        if match1 is None and match2 is None:\n",
    "            table1[s[idx]] = t[idx]\n",
    "            table2[t[idx]] = s[idx]\n",
    "            continue\n",
    "        elif match1 == t[idx] and match2 == s[idx]:\n",
    "            continue\n",
    "\n",
    "        return False\n",
    "    \n",
    "    return True\n",
    "\n",
    "isIsomorphic(s=\"aaaccd\", t=\"xxxyyz\")"
   ]
  },
  {
   "cell_type": "markdown",
   "metadata": {},
   "source": [
    "### leetcode 242\n",
    "### Valid Anagram\n",
    "https://leetcode.com/problems/valid-anagram/"
   ]
  },
  {
   "cell_type": "code",
   "execution_count": 5,
   "metadata": {},
   "outputs": [
    {
     "data": {
      "text/plain": [
       "False"
      ]
     },
     "execution_count": 5,
     "metadata": {},
     "output_type": "execute_result"
    }
   ],
   "source": [
    "def isAnagram(s: str, t: str) -> bool:\n",
    "    table = {}\n",
    "\n",
    "    for c in s:\n",
    "        count = table.get(c)\n",
    "        if count is None:\n",
    "            table[c] = 1\n",
    "            continue\n",
    "        \n",
    "        table[c] += 1\n",
    "\n",
    "    for c in t:\n",
    "        count = table.get(c)\n",
    "        if count is None:\n",
    "            return False\n",
    "        table[c] -= 1\n",
    "\n",
    "    for key, value in table.items():\n",
    "        if value != 0:\n",
    "            return False\n",
    "    return True\n",
    "\n",
    "isAnagram(s = \"anagram\", t = \"nagaram\")\n",
    "isAnagram(s = \"rat\", t = \"car\")"
   ]
  },
  {
   "cell_type": "markdown",
   "metadata": {},
   "source": [
    "### leetcode 290\n",
    "### Word Pattern\n",
    "https://leetcode.com/problems/word-pattern/"
   ]
  },
  {
   "cell_type": "code",
   "execution_count": 6,
   "metadata": {},
   "outputs": [
    {
     "data": {
      "text/plain": [
       "True"
      ]
     },
     "execution_count": 6,
     "metadata": {},
     "output_type": "execute_result"
    }
   ],
   "source": [
    "def wordPattern(pattern: str, s: str) -> bool:\n",
    "    char_map = {}\n",
    "    word_map = {}\n",
    "\n",
    "    words = s.split(' ')\n",
    "    if len(words) != len(pattern):\n",
    "        return False\n",
    "    \n",
    "    for idx, c in enumerate(pattern):\n",
    "        word = words[idx]\n",
    "        if c not in char_map:\n",
    "            if word in word_map:\n",
    "                return False\n",
    "            else:\n",
    "                char_map[c] = word\n",
    "                word_map[word] = c\n",
    "        else:\n",
    "            if char_map[c] != word:\n",
    "                return False\n",
    "\n",
    "    return True\n",
    "wordPattern(pattern = \"abba\", s = \"dog cat cat dog\")\n"
   ]
  },
  {
   "cell_type": "markdown",
   "metadata": {},
   "source": [
    "## leetcode 347, 692\n",
    "### Top K Frequent Words\n",
    "\n",
    "https://leetcode.com/problems/top-k-frequent-elements/\n",
    "https://leetcode.com/problems/top-k-frequent-words/"
   ]
  },
  {
   "cell_type": "code",
   "execution_count": null,
   "metadata": {},
   "outputs": [],
   "source": [
    "from typing import List  \n",
    "import heapq\n",
    "\n",
    "def topKFrequent(nums: List[int], k: int) -> List[int]:\n",
    "    table = {}    \n",
    "    for num in nums:\n",
    "      count = table.get(num)\n",
    "      if count is None:\n",
    "        table[num] = 0      \n",
    "      table[num] += 1\n",
    "           \n",
    "    #heap \n",
    "    freq_heap = []\n",
    "    for num, count in table.items():\n",
    "      heapq.heappush(freq_heap,(count, num))\n",
    "      if k < len(freq_heap):\n",
    "        heapq.heappop(freq_heap)\n",
    "    \n",
    "    k_freq = []\n",
    "    while freq_heap:\n",
    "      count , num = freq_heap[0]\n",
    "      heapq.heappop(freq_heap)\n",
    "      k_freq.append(num)\n",
    "    k_freq.reverse()\n",
    "    \n",
    "    return k_freq"
   ]
  }
 ],
 "metadata": {
  "interpreter": {
   "hash": "31f2aee4e71d21fbe5cf8b01ff0e069b9275f58929596ceb00d14d90e3e16cd6"
  },
  "kernelspec": {
   "display_name": "Python 3.8.2 64-bit",
   "language": "python",
   "name": "python3"
  },
  "language_info": {
   "codemirror_mode": {
    "name": "ipython",
    "version": 3
   },
   "file_extension": ".py",
   "mimetype": "text/x-python",
   "name": "python",
   "nbconvert_exporter": "python",
   "pygments_lexer": "ipython3",
   "version": "3.9.9"
  },
  "orig_nbformat": 4
 },
 "nbformat": 4,
 "nbformat_minor": 2
}

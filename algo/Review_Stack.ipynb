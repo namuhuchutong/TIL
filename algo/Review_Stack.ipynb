{
 "cells": [
  {
   "cell_type": "markdown",
   "metadata": {},
   "source": [
    "## leetcode 20\n",
    "### Valid Parentheses\n",
    "\n",
    "https://leetcode.com/problems/valid-parentheses/"
   ]
  },
  {
   "cell_type": "code",
   "execution_count": 6,
   "metadata": {},
   "outputs": [
    {
     "name": "stdout",
     "output_type": "stream",
     "text": [
      "True\n"
     ]
    }
   ],
   "source": [
    "from typing import List\n",
    "\n",
    "class Solution:\n",
    "    def _match(self, c: str) -> str:\n",
    "        if c == ')':\n",
    "            return '('\n",
    "        elif c == '}':\n",
    "            return '{'\n",
    "        elif c == ']':\n",
    "            return '['\n",
    "\n",
    "    def isValid(self, s: str) -> bool:\n",
    "        stack = []\n",
    "        for ch in s:\n",
    "            if len(stack) == 0:\n",
    "                stack.append(ch)\n",
    "            elif ch == '(' or ch == '{' or ch == '[':\n",
    "                stack.append(ch)\n",
    "            else:\n",
    "                match_ch = self._match(ch)\n",
    "                last_ch = stack[-1]\n",
    "                if match_ch == last_ch:\n",
    "                    stack.pop()\n",
    "                else:\n",
    "                    return False\n",
    "        if len(stack) == 0:\n",
    "            return True\n",
    "        else:\n",
    "            return False\n",
    "\n",
    "s='{([{}]())}'\n",
    "sol = Solution()\n",
    "print(sol.isValid(s))"
   ]
  },
  {
   "cell_type": "markdown",
   "metadata": {},
   "source": [
    "### minimum값을 O(1) time complexity로 return이 가능한 Stack을 Design 하여라"
   ]
  },
  {
   "cell_type": "code",
   "execution_count": 9,
   "metadata": {},
   "outputs": [
    {
     "name": "stdout",
     "output_type": "stream",
     "text": [
      "5 3 2 2 3 "
     ]
    }
   ],
   "source": [
    "from typing import List\n",
    "\n",
    "class MinStack:\n",
    "    def __init__(self) -> None:\n",
    "        self._stack = []\n",
    "        self._min_stack = []\n",
    "\n",
    "    def push(self, val: int) -> None:\n",
    "        if len(self._stack) == 0:\n",
    "            self._stack.append(val)\n",
    "            self._min_stack.append(val)\n",
    "            return\n",
    "        \n",
    "        min_num = self._min_stack[-1]\n",
    "        if val < min_num:\n",
    "            self._stack.append(val)\n",
    "            self._min_stack.append(val)\n",
    "        else:\n",
    "            self._stack.append(val)\n",
    "            self._min_stack.append(min_num)\n",
    "    \n",
    "    def pop(self) -> None:\n",
    "        if len(self._stack) != 0:\n",
    "            self._stack.pop()\n",
    "            self._min_stack.pop()\n",
    "\n",
    "    def top(self) -> int:\n",
    "        return self._stack[-1]\n",
    "    \n",
    "    def getMin(self) -> int:\n",
    "        return self._min_stack[-1]\n",
    "\n",
    "minStack = MinStack()\n",
    "minStack.push(5)\n",
    "print(minStack.getMin(),end=' ')\n",
    "minStack.push(3)\n",
    "print(minStack.getMin(),end=' ')\n",
    "minStack.push(2)\n",
    "print(minStack.getMin(),end=' ')\n",
    "minStack.push(4)\n",
    "print(minStack.getMin(),end=' ')\n",
    "minStack.pop()\n",
    "minStack.pop()\n",
    "print(minStack.getMin(),end=' ')"
   ]
  },
  {
   "cell_type": "markdown",
   "metadata": {},
   "source": [
    "## leetcod 1209\n",
    "### Remove All Adjacent Duplicates In String\n",
    "https://leetcode.com/problems/remove-all-adjacent-duplicates-in-string-ii/\n"
   ]
  },
  {
   "cell_type": "code",
   "execution_count": 11,
   "metadata": {},
   "outputs": [
    {
     "name": "stdout",
     "output_type": "stream",
     "text": [
      "adef\n"
     ]
    }
   ],
   "source": [
    "def removeDuplicates(s: str) -> str:\n",
    "    stack = []\n",
    "    for c in s:\n",
    "        if len(stack) == 0:\n",
    "            stack.append(c)\n",
    "        elif stack[-1] == c:\n",
    "            stack.pop()\n",
    "        else:\n",
    "            stack.append(c)\n",
    "\n",
    "    return ''.join(stack)\n",
    "\n",
    "print(removeDuplicates(\"abbcbbcdef\"))"
   ]
  },
  {
   "cell_type": "code",
   "execution_count": 13,
   "metadata": {},
   "outputs": [
    {
     "name": "stdout",
     "output_type": "stream",
     "text": [
      "abbce\n"
     ]
    }
   ],
   "source": [
    "def removeDuplicates2(s: str, k: int) -> str:\n",
    "    stack = []\n",
    "    count_stack = []\n",
    "\n",
    "    for c in s:\n",
    "        if len(stack) == 0:\n",
    "            stack.append(c)\n",
    "            count_stack.append(1)\n",
    "        elif stack[-1] == c:\n",
    "            dup_count = count_stack[-1]\n",
    "            if dup_count < k-1:\n",
    "                stack.append(c)\n",
    "                count_stack.append(dup_count+1)\n",
    "            elif dup_count == k-1:\n",
    "                for _ in range(k-1):\n",
    "                    stack.pop()\n",
    "                    count_stack.pop()\n",
    "        else:\n",
    "            stack.append(c)\n",
    "            count_stack.append(1)\n",
    "\n",
    "    return ''.join(stack)\n",
    "print(removeDuplicates2(s='abbcddde',k=3))"
   ]
  },
  {
   "cell_type": "markdown",
   "metadata": {},
   "source": [
    "## leetcode 394\n",
    "### Decode String\n",
    "https://leetcode.com/problems/decode-string/"
   ]
  },
  {
   "cell_type": "code",
   "execution_count": 14,
   "metadata": {},
   "outputs": [
    {
     "data": {
      "text/plain": [
       "'aaaaaaaaaaaaaaaaaaaaaaadefdefdefdefdefdefdefdefdefdefdefdefdefdefdefdefdefdefdefdefdefdefdefdefdefdefdefdefdefdefdefdefdefdefdefdefdefdefdefdefdefdefdefdefdefdefdefdefdefdefdefdefdefdefdefdefdefdefdefdefdefdefdefdefdefdefdefdefdefdefdefdefdefdefdefdefdefdefdefdefdefdefdefdefdefdefdefdefdefdefdefdefdefdefdefdefdefdefdefdefbbbbbbbbbbbbbbbbbbbbbbbbbbbbbbbbbbbbbbbbbb'"
      ]
     },
     "execution_count": 14,
     "metadata": {},
     "output_type": "execute_result"
    }
   ],
   "source": [
    "def decodeString(s: str) -> str:\n",
    "    stack = []\n",
    "    num_stack = []\n",
    "\n",
    "    cur_num = 0\n",
    "    cur_str = ''\n",
    "    for c in s:\n",
    "        if c == '[':\n",
    "            stack.append(cur_str)\n",
    "            num_stack.append(cur_num)\n",
    "            cur_str = ''\n",
    "            cur_num = 0\n",
    "            continue\n",
    "        elif c == ']':\n",
    "            prev_str = stack.pop()\n",
    "            num = num_stack.pop()\n",
    "            cur_str = prev_str + num * cur_str\n",
    "            continue\n",
    "\n",
    "        if c.isdigit():\n",
    "            cur_num = cur_num * 10 + int(c)\n",
    "        else:\n",
    "            cur_str += c\n",
    "\n",
    "    return cur_str\n",
    "\n",
    "decodeString(s='23[a]100[def]42[b]')"
   ]
  },
  {
   "cell_type": "code",
   "execution_count": 1,
   "metadata": {},
   "outputs": [],
   "source": [
    "def calculate(s: str) -> int:\n",
    "    s+='+' #additional last op\n",
    "    stack = []\n",
    "    \n",
    "    cur_num = 0\n",
    "    prev_op = '+'\n",
    "    for c in s:\n",
    "      if c.isdigit():\n",
    "        cur_num = cur_num*10 + int(c)\n",
    "        \n",
    "      elif c == ' ':\n",
    "        continue     \n",
    "              \n",
    "      else: #ops\n",
    "        if prev_op == '+':\n",
    "          stack.append(cur_num)\n",
    "\n",
    "        elif prev_op == '-':\n",
    "          stack.append(-cur_num)\n",
    "          \n",
    "        elif prev_op == '*':\n",
    "          stack[-1] = stack[-1]*cur_num      \n",
    "\n",
    "        elif prev_op == '/':\n",
    "          stack[-1] = int(stack[-1]/cur_num)\n",
    "\n",
    "        cur_num = 0\n",
    "        prev_op = c\n",
    "        \n",
    "    return sum(stack)"
   ]
  },
  {
   "cell_type": "code",
   "execution_count": 2,
   "metadata": {},
   "outputs": [
    {
     "data": {
      "text/plain": [
       "15"
      ]
     },
     "execution_count": 2,
     "metadata": {},
     "output_type": "execute_result"
    }
   ],
   "source": [
    "calculate(s='7 - 6 / 3 + 3 * 2 + 4')"
   ]
  },
  {
   "cell_type": "markdown",
   "metadata": {},
   "source": [
    "## leetcode 739\n",
    "### Daily Temperatures\n",
    "\n",
    "https://leetcode.com/problems/daily-temperatures/"
   ]
  },
  {
   "cell_type": "code",
   "execution_count": null,
   "metadata": {},
   "outputs": [],
   "source": [
    "# to do"
   ]
  },
  {
   "cell_type": "code",
   "execution_count": 3,
   "metadata": {},
   "outputs": [
    {
     "name": "stdout",
     "output_type": "stream",
     "text": [
      "1 1\n",
      "2 2\n",
      "2 2\n",
      "3 3\n",
      "3\n"
     ]
    }
   ],
   "source": [
    "#https://leetcode.com/problems/maximum-nesting-depth-of-the-parentheses/\n",
    "\n",
    "def maxDepth(s: str) -> int:\n",
    "    ans = cur = 0\n",
    "    for c in s :\n",
    "        if c == '(':\n",
    "            cur += 1\n",
    "            ans = max(ans, cur)\n",
    "            print(ans, cur)\n",
    "        elif c == ')':\n",
    "            cur -= 1\n",
    "    return ans\n",
    "\n",
    "print(maxDepth(s = \"(1+(2*3)+((8)/4))+1\"))"
   ]
  },
  {
   "cell_type": "code",
   "execution_count": 4,
   "metadata": {},
   "outputs": [
    {
     "name": "stdout",
     "output_type": "stream",
     "text": [
      "()()()\n"
     ]
    }
   ],
   "source": [
    "def removeOuterParentheses(s):\n",
    "    res, opened = [], 0\n",
    "    for c in s:\n",
    "        if c == '(' and opened > 0:\n",
    "            res.append(c)\n",
    "        if c == ')' and opened > 1:\n",
    "            res.append(c)\n",
    "        opened += 1 if c == '(' else -1\n",
    "    return ''.join(res)\n",
    "\n",
    "print(removeOuterParentheses(s = \"(()())(())\"))"
   ]
  }
 ],
 "metadata": {
  "interpreter": {
   "hash": "31f2aee4e71d21fbe5cf8b01ff0e069b9275f58929596ceb00d14d90e3e16cd6"
  },
  "kernelspec": {
   "display_name": "Python 3.8.2 64-bit",
   "language": "python",
   "name": "python3"
  },
  "language_info": {
   "codemirror_mode": {
    "name": "ipython",
    "version": 3
   },
   "file_extension": ".py",
   "mimetype": "text/x-python",
   "name": "python",
   "nbconvert_exporter": "python",
   "pygments_lexer": "ipython3",
   "version": "3.9.9"
  },
  "orig_nbformat": 4
 },
 "nbformat": 4,
 "nbformat_minor": 2
}

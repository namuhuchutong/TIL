{
 "cells": [
  {
   "cell_type": "code",
   "execution_count": 9,
   "metadata": {},
   "outputs": [],
   "source": [
    "class Solution {\n",
    "\n",
    "    public int[] twoSum(int[] nums, int target) {\n",
    "        Map<Integer, Integer> hash = new HashMap<>();\n",
    "        for (int i = 0; i < nums.length; hash.put(nums[i], i++)) {\n",
    "            if (hash.containsKey(target - nums[i])) {\n",
    "                return new int[]{hash.get(target - nums[i]), i};\n",
    "            }\n",
    "        }\n",
    "        return new int[] {0, 0};\n",
    "    }\n",
    "}"
   ]
  },
  {
   "cell_type": "code",
   "execution_count": 10,
   "metadata": {},
   "outputs": [
    {
     "name": "stdout",
     "output_type": "stream",
     "text": [
      "1\n",
      "4\n"
     ]
    }
   ],
   "source": [
    "Solution sol = new Solution();\n",
    "int[] a = {13,7,5,1,3,2};\n",
    "Arrays.stream(sol.twoSum(a, 10)).forEach(System.out::println);"
   ]
  },
  {
   "cell_type": "code",
   "execution_count": 11,
   "metadata": {},
   "outputs": [],
   "source": [
    "class Solution2 {\n",
    "    public int firstUniqChar(String s) {\n",
    "        Map<Character, Integer> map = new HashMap<>();\n",
    "\n",
    "        for (int i = 0; i < s.length(); i++) {\n",
    "            char c = s.charAt(i);\n",
    "            map.put(c, map.getOrDefault(c, 0)+1);\n",
    "        }\n",
    "\n",
    "        for (int i = 0; i < s.length(); i++) {\n",
    "            if (map.get(s.charAt(i)) == 1)\n",
    "                return i;\n",
    "        }\n",
    "\n",
    "        return -1;\n",
    "    }\n",
    "}"
   ]
  },
  {
   "cell_type": "code",
   "execution_count": 12,
   "metadata": {},
   "outputs": [
    {
     "data": {
      "text/plain": [
       "0"
      ]
     },
     "execution_count": 12,
     "metadata": {},
     "output_type": "execute_result"
    }
   ],
   "source": [
    "Solution2 sol = new Solution2();\n",
    "String s = \"helloworld\";\n",
    "sol.firstUniqChar(s);"
   ]
  }
 ],
 "metadata": {
  "kernelspec": {
   "display_name": "Java",
   "language": "java",
   "name": "java"
  },
  "language_info": {
   "codemirror_mode": "java",
   "file_extension": ".jshell",
   "mimetype": "text/x-java-source",
   "name": "Java",
   "pygments_lexer": "java",
   "version": "11.0.10+9-LTS"
  },
  "orig_nbformat": 4
 },
 "nbformat": 4,
 "nbformat_minor": 2
}

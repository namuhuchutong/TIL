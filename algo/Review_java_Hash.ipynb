{
 "cells": [
  {
   "cell_type": "code",
   "execution_count": 9,
   "metadata": {},
   "outputs": [],
   "source": [
    "class Solution {\n",
    "\n",
    "    public int[] twoSum(int[] nums, int target) {\n",
    "        Map<Integer, Integer> hash = new HashMap<>();\n",
    "        for (int i = 0; i < nums.length; hash.put(nums[i], i++)) {\n",
    "            if (hash.containsKey(target - nums[i])) {\n",
    "                return new int[]{hash.get(target - nums[i]), i};\n",
    "            }\n",
    "        }\n",
    "        return new int[] {0, 0};\n",
    "    }\n",
    "}"
   ]
  },
  {
   "cell_type": "code",
   "execution_count": 10,
   "metadata": {},
   "outputs": [
    {
     "name": "stdout",
     "output_type": "stream",
     "text": [
      "1\n",
      "4\n"
     ]
    }
   ],
   "source": [
    "Solution sol = new Solution();\n",
    "int[] a = {13,7,5,1,3,2};\n",
    "Arrays.stream(sol.twoSum(a, 10)).forEach(System.out::println);"
   ]
  },
  {
   "cell_type": "code",
   "execution_count": 11,
   "metadata": {},
   "outputs": [],
   "source": [
    "class Solution2 {\n",
    "    public int firstUniqChar(String s) {\n",
    "        Map<Character, Integer> map = new HashMap<>();\n",
    "\n",
    "        for (int i = 0; i < s.length(); i++) {\n",
    "            char c = s.charAt(i);\n",
    "            map.put(c, map.getOrDefault(c, 0)+1);\n",
    "        }\n",
    "\n",
    "        for (int i = 0; i < s.length(); i++) {\n",
    "            if (map.get(s.charAt(i)) == 1)\n",
    "                return i;\n",
    "        }\n",
    "\n",
    "        return -1;\n",
    "    }\n",
    "}"
   ]
  },
  {
   "cell_type": "code",
   "execution_count": 12,
   "metadata": {},
   "outputs": [
    {
     "data": {
      "text/plain": [
       "0"
      ]
     },
     "execution_count": 12,
     "metadata": {},
     "output_type": "execute_result"
    }
   ],
   "source": [
    "Solution2 sol = new Solution2();\n",
    "String s = \"helloworld\";\n",
    "sol.firstUniqChar(s);"
   ]
  },
  {
   "cell_type": "code",
   "execution_count": 2,
   "metadata": {},
   "outputs": [],
   "source": [
    "class Solution3 {\n",
    "    public boolean isIsomorphic(String s, String t) {\n",
    "        if (s.length() != t.length()) {\n",
    "            return false;\n",
    "        }\n",
    "\n",
    "        Map<Character, Character> map = new HashMap<>();\n",
    "\n",
    "        for (int i = 0; i < s.length(); i++) {\n",
    "            char ch1 = s.charAt(i);\n",
    "            char ch2 = t.charAt(i);\n",
    "\n",
    "            if ( map.containsKey(ch1) && (ch2 != map.get(ch1))) {\n",
    "                return false;\n",
    "            }\n",
    "\n",
    "            if (!map.containsKey(ch1)) {\n",
    "                if (map.values().contains(ch2))\n",
    "                    return false;\n",
    "                else\n",
    "                    map.put(ch1, ch2);\n",
    "            }\n",
    "\n",
    "        }\n",
    "        return true;\n",
    "    }\n",
    "}"
   ]
  },
  {
   "cell_type": "code",
   "execution_count": 3,
   "metadata": {},
   "outputs": [
    {
     "data": {
      "text/plain": [
       "true"
      ]
     },
     "execution_count": 3,
     "metadata": {},
     "output_type": "execute_result"
    }
   ],
   "source": [
    "String s = \"egg\";\n",
    "String t = \"add\";\n",
    "Solution3 sol = new Solution3();\n",
    "sol.isIsomorphic(s, t);"
   ]
  },
  {
   "cell_type": "code",
   "execution_count": 5,
   "metadata": {},
   "outputs": [],
   "source": [
    "class Solution4 {\n",
    "    public boolean isAnagram(String s, String t) {\n",
    "         if(s.length() != t.length())\n",
    "            return false;\n",
    "\n",
    "        Map<Character, Integer> map = new HashMap<>();\n",
    "\n",
    "        for (int i = 0; i < s.length(); i++) {\n",
    "            char ch1 = s.charAt(i);\n",
    "\n",
    "            if (map.containsKey(ch1)) {\n",
    "                map.replace(ch1, map.get(ch1)+1);\n",
    "            } else {\n",
    "                map.put(ch1, 1);\n",
    "            }\n",
    "        }\n",
    "\n",
    "        for (int i = 0; i < t.length(); i++) {\n",
    "            char ch2 = t.charAt(i);\n",
    "\n",
    "            if (map.containsKey(ch2)) {\n",
    "                map.replace(ch2, map.get(ch2) - 1);\n",
    "            } else {\n",
    "                return false;\n",
    "            }\n",
    "        }\n",
    "\n",
    "        for (Integer i : map.values()) {\n",
    "            if (!i.equals(0))\n",
    "                return false;\n",
    "        }\n",
    "        return true;\n",
    "    }\n",
    "}"
   ]
  },
  {
   "cell_type": "code",
   "execution_count": 6,
   "metadata": {},
   "outputs": [
    {
     "data": {
      "text/plain": [
       "true"
      ]
     },
     "execution_count": 6,
     "metadata": {},
     "output_type": "execute_result"
    }
   ],
   "source": [
    "String s = \"anagram\";\n",
    "String t = \"nagaram\";\n",
    "Solution4 sol = new Solution4();\n",
    "sol.isAnagram(s, t);"
   ]
  },
  {
   "cell_type": "code",
   "execution_count": 4,
   "metadata": {},
   "outputs": [],
   "source": [
    "class Solution5 {\n",
    "    public boolean wordPattern(String pattern, String s) {\n",
    "        Map<Character, String> map = new HashMap<>();\n",
    "        Set<String> set = new HashSet<>();\n",
    "        String[] strs = s.split(\" \");\n",
    "\n",
    "        if (strs.length != pattern.length())\n",
    "            return false;\n",
    "\n",
    "        for (int i = 0; i < strs.length; i++) {\n",
    "            if (map.containsKey(pattern.charAt(i))) {\n",
    "                if (!map.get(pattern.charAt(i)).equals(strs[i]))\n",
    "                    return false;\n",
    "            } else {\n",
    "                if (!set.add(strs[i]))\n",
    "                    return false;\n",
    "                map.put(pattern.charAt(i), strs[i]);\n",
    "            }\n",
    "        }\n",
    "        return true;\n",
    "    }\n",
    "}"
   ]
  },
  {
   "cell_type": "code",
   "execution_count": 5,
   "metadata": {},
   "outputs": [
    {
     "data": {
      "text/plain": [
       "false"
      ]
     },
     "execution_count": 5,
     "metadata": {},
     "output_type": "execute_result"
    }
   ],
   "source": [
    "String p = \"abba\";\n",
    "String s = \"dog dog dog dog\";\n",
    "Solution5 sol = new Solution5();\n",
    "sol.wordPattern(p, s);"
   ]
  },
  {
   "cell_type": "code",
   "execution_count": 6,
   "metadata": {},
   "outputs": [],
   "source": [
    "class Solution6 {\n",
    "    public List<String> topKFrequent(String[] words, int k) {\n",
    "         Map<String, Integer> map = new HashMap<>();\n",
    "        List<String> res = new LinkedList<>();\n",
    "        for (String word : words) {\n",
    "            map.put(word, map.getOrDefault(word, 1) + 1);\n",
    "        }\n",
    "\n",
    "        PriorityQueue<Map.Entry<String, Integer>> minHeap = new PriorityQueue<>(\n",
    "                (e1, e2) -> e1.getValue()==e2.getValue() ? e2.getKey().compareTo(e1.getKey()) : e1.getValue()-e2.getValue()\n",
    "        );\n",
    "        \n",
    "        for (Map.Entry<String, Integer> e : map.entrySet()) {\n",
    "            minHeap.offer(e);\n",
    "            if(minHeap.size() > k)\n",
    "                minHeap.poll();\n",
    "        }\n",
    "        \n",
    "        while(!minHeap.isEmpty())\n",
    "            res.add(0, minHeap.poll().getKey());\n",
    "        \n",
    "        return res;\n",
    "    }\n",
    "}"
   ]
  },
  {
   "cell_type": "code",
   "execution_count": 7,
   "metadata": {},
   "outputs": [
    {
     "name": "stdout",
     "output_type": "stream",
     "text": [
      "i\n",
      "love\n"
     ]
    }
   ],
   "source": [
    "Solution6 sol = new Solution6();\n",
    "String[] strs = {\"i\",\"love\",\"leetcode\",\"i\",\"love\",\"coding\"};\n",
    "sol.topKFrequent(strs, 2).stream().forEach(System.out::println);"
   ]
  }
 ],
 "metadata": {
  "kernelspec": {
   "display_name": "Java",
   "language": "java",
   "name": "java"
  },
  "language_info": {
   "codemirror_mode": "java",
   "file_extension": ".jshell",
   "mimetype": "text/x-java-source",
   "name": "Java",
   "pygments_lexer": "java",
   "version": "11.0.10+9-LTS"
  },
  "orig_nbformat": 4
 },
 "nbformat": 4,
 "nbformat_minor": 2
}

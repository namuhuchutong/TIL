{
 "cells": [
  {
   "cell_type": "code",
   "execution_count": 5,
   "metadata": {},
   "outputs": [],
   "source": [
    "class Solution {\n",
    "    public int[] sort(int[] nums) {\n",
    "        for (int i = 0; i < nums.length; i++) {\n",
    "            for (int j = 0; j < nums.length-1; j++) {\n",
    "                if (nums[j] > nums[j+1]) {\n",
    "                    int temp = nums[j];\n",
    "                    nums[j] = nums[j+1];\n",
    "                    nums[j+1] = temp;\n",
    "                }\n",
    "            }\n",
    "        }\n",
    "        return nums;\n",
    "    }\n",
    "}"
   ]
  },
  {
   "cell_type": "code",
   "execution_count": 8,
   "metadata": {},
   "outputs": [
    {
     "name": "stdout",
     "output_type": "stream",
     "text": [
      "1\n",
      "3\n",
      "5\n",
      "7\n",
      "9\n"
     ]
    }
   ],
   "source": [
    "Solution sol = new Solution();\n",
    "int[] a = {9,3,5,7,1};\n",
    "int[] res = sol.sort(a);\n",
    "Arrays.stream(res).forEach(System.out::println);"
   ]
  },
  {
   "cell_type": "code",
   "execution_count": 11,
   "metadata": {},
   "outputs": [],
   "source": [
    "class Solution2 {\n",
    "    public int[] sort(int[] nums) {\n",
    "        for (int i = 1; i < nums.length; i++) {\n",
    "            int temp = nums[i];\n",
    "            int idx = i-1;\n",
    "            while (0 <= idx && temp < nums[idx]) {\n",
    "                nums[idx+1] = nums[idx];\n",
    "                idx = idx-1;\n",
    "            }\n",
    "            nums[idx+1] = temp;\n",
    "        }\n",
    "        return nums;\n",
    "    }\n",
    "}"
   ]
  },
  {
   "cell_type": "code",
   "execution_count": 12,
   "metadata": {},
   "outputs": [
    {
     "name": "stdout",
     "output_type": "stream",
     "text": [
      "1\n",
      "3\n",
      "5\n",
      "7\n",
      "9\n"
     ]
    }
   ],
   "source": [
    "Solution2 sol = new Solution2();\n",
    "int[] a = {9,3,5,7,1};\n",
    "int[] res = sol.sort(a);\n",
    "Arrays.stream(res).forEach(System.out::println);"
   ]
  },
  {
   "cell_type": "code",
   "execution_count": 14,
   "metadata": {},
   "outputs": [],
   "source": [
    "class Solution3 {\n",
    "\n",
    "    public int[] sort(int[] nums) {\n",
    "        for (int i = 0; i < nums.length; i++) {\n",
    "            int minNum = nums[i];\n",
    "            int minIdx = i;\n",
    "            for (int j = i; j < nums.length; j++) {\n",
    "                if (nums[j] < minNum) {\n",
    "                    minNum = nums[j];\n",
    "                    minIdx = j;\n",
    "                }\n",
    "            }\n",
    "            int temp = nums[i];\n",
    "            nums[i] = nums[minIdx];\n",
    "            nums[minIdx] = temp;\n",
    "        }\n",
    "        return nums;\n",
    "    }\n",
    "}"
   ]
  },
  {
   "cell_type": "code",
   "execution_count": 15,
   "metadata": {},
   "outputs": [
    {
     "name": "stdout",
     "output_type": "stream",
     "text": [
      "1\n",
      "3\n",
      "5\n",
      "7\n",
      "9\n"
     ]
    }
   ],
   "source": [
    "Solution3 sol = new Solution3();\n",
    "int[] a = {9,3,5,7,1};\n",
    "int[] res = sol.sort(a);\n",
    "Arrays.stream(res).forEach(System.out::println);"
   ]
  },
  {
   "cell_type": "code",
   "execution_count": 23,
   "metadata": {},
   "outputs": [],
   "source": [
    "class Solution4 {\n",
    "\n",
    "    public int[] sort(int[] nums) {\n",
    "\n",
    "        int length = nums.length;\n",
    "        if (length == 1) return nums;\n",
    "\n",
    "        int mid = length / 2;\n",
    "\n",
    "        int[] LeftNums = Arrays.copyOfRange(nums, 0, mid);\n",
    "        int[] RightNums = Arrays.copyOfRange(nums, mid, length);\n",
    "        \n",
    "        int[] sortedLeft = sort(LeftNums);\n",
    "        int[] sortedRight = sort(RightNums);\n",
    "\n",
    "        List<Integer> list = new ArrayList<>();\n",
    "        int LeftIdx = 0;\n",
    "        int RightIdx = 0;\n",
    "\n",
    "        while (LeftIdx < sortedLeft.length || RightIdx < sortedRight.length) {\n",
    "            if (LeftIdx == sortedLeft.length) {\n",
    "                list.add(sortedRight[RightIdx]);\n",
    "                RightIdx++;\n",
    "                continue;\n",
    "            }\n",
    "\n",
    "            if (RightIdx == sortedRight.length) {\n",
    "                list.add(sortedLeft[LeftIdx]);\n",
    "                LeftIdx++;\n",
    "                continue;\n",
    "            }\n",
    "\n",
    "            if (sortedRight[RightIdx] <= sortedLeft[LeftIdx]) {\n",
    "                list.add(sortedRight[RightIdx]);\n",
    "                RightIdx++;\n",
    "            } else {\n",
    "                list.add(sortedLeft[LeftIdx]);\n",
    "                LeftIdx++;\n",
    "            }\n",
    "        }\n",
    "\n",
    "        return list.stream().mapToInt(Integer::intValue).toArray();\n",
    "\n",
    "    }\n",
    "}"
   ]
  },
  {
   "cell_type": "code",
   "execution_count": 24,
   "metadata": {},
   "outputs": [
    {
     "name": "stdout",
     "output_type": "stream",
     "text": [
      "1\n",
      "3\n",
      "5\n",
      "7\n",
      "9\n"
     ]
    }
   ],
   "source": [
    "Solution4 sol = new Solution4();\n",
    "int[] a = {9,3,5,7,1};\n",
    "int[] res = sol.sort(a);\n",
    "Arrays.stream(res).forEach(System.out::println);"
   ]
  },
  {
   "cell_type": "code",
   "execution_count": 27,
   "metadata": {},
   "outputs": [],
   "source": [
    "class Solution5 {\n",
    "\n",
    "    public int sort(int[] nums, int k) {\n",
    "        \n",
    "        int length = nums.length;\n",
    "        if (length == 0) return nums[0];\n",
    "\n",
    "        Random generator = new Random();\n",
    "        int pivotIdx = generator.nextInt(length);\n",
    "        int lastIdx = length - 1;\n",
    "\n",
    "        int temp = nums[pivotIdx];\n",
    "        nums[pivotIdx] = nums[lastIdx];\n",
    "        nums[lastIdx] = temp;\n",
    "\n",
    "        int leftIdx = 0;\n",
    "        int rightIdx = length - 2;\n",
    "        int pivot = nums[lastIdx];\n",
    "\n",
    "        while (leftIdx <= rightIdx) {\n",
    "            if (nums[leftIdx] <= pivot) {\n",
    "                leftIdx++;\n",
    "                continue;\n",
    "            }\n",
    "\n",
    "            if (pivot < nums[rightIdx]) {\n",
    "                rightIdx--;\n",
    "                continue;\n",
    "            }\n",
    "\n",
    "            if (pivot < nums[leftIdx] && nums[rightIdx] <= pivot) {\n",
    "                temp = nums[leftIdx];\n",
    "                nums[leftIdx] = nums[rightIdx];\n",
    "                nums[rightIdx] = temp;\n",
    "                continue;\n",
    "            }\n",
    "        }\n",
    "\n",
    "        temp = nums[leftIdx];\n",
    "        nums[leftIdx] = nums[lastIdx];\n",
    "        nums[lastIdx] = temp;\n",
    "\n",
    "        if (leftIdx == length-k) return nums[leftIdx];\n",
    "        else if (leftIdx < length-k) return sort(Arrays.copyOfRange(nums, leftIdx+1, length), k);\n",
    "        else return sort(Arrays.copyOfRange(nums, 0, leftIdx), k);\n",
    "\n",
    "    }\n",
    "}"
   ]
  },
  {
   "cell_type": "code",
   "execution_count": 28,
   "metadata": {},
   "outputs": [
    {
     "name": "stdout",
     "output_type": "stream",
     "text": [
      "7\n"
     ]
    }
   ],
   "source": [
    "Solution5 sol = new Solution5();\n",
    "int[] a = {5,7,9,3,1,2,4};\n",
    "System.out.println(sol.sort(a, 2));"
   ]
  },
  {
   "cell_type": "code",
   "execution_count": 42,
   "metadata": {},
   "outputs": [],
   "source": [
    "class Solution6 {\n",
    "\n",
    "    public int[] sort(int[] nums, int beginIdx, int lastIdx) {\n",
    "\n",
    "        int length = lastIdx-beginIdx+1;\n",
    "        if (length == 1) return nums;\n",
    "\n",
    "        Random generator = new Random();\n",
    "        int pivotIdx = generator.nextInt(length);\n",
    "\n",
    "        int temp = nums[lastIdx];\n",
    "        nums[lastIdx] = nums[pivotIdx];\n",
    "        nums[pivotIdx] = temp;\n",
    "\n",
    "        int leftIdx = beginIdx;\n",
    "        int rightIdx = lastIdx - 1;\n",
    "        int pivot = nums[lastIdx];\n",
    "\n",
    "        while (leftIdx <= rightIdx) {\n",
    "            if (nums[leftIdx] <= pivot) {\n",
    "                leftIdx++;\n",
    "                continue;\n",
    "            }\n",
    "\n",
    "            if (pivot < nums[rightIdx]) {\n",
    "                rightIdx--;\n",
    "                continue;\n",
    "            }\n",
    "\n",
    "            if (pivot < nums[leftIdx] && nums[rightIdx] <= pivot) {\n",
    "                temp = nums[leftIdx];\n",
    "                nums[leftIdx] = nums[rightIdx];\n",
    "                nums[rightIdx] = nums[leftIdx];\n",
    "                continue;\n",
    "            }\n",
    "        }\n",
    "        \n",
    "        temp = nums[leftIdx];\n",
    "        nums[leftIdx] = nums[lastIdx];\n",
    "        nums[lastIdx] = temp;\n",
    "\n",
    "        sort(nums, leftIdx+1, lastIdx);\n",
    "        sort(nums, beginIdx, leftIdx-1);\n",
    "\n",
    "        return nums;\n",
    "    }\n",
    "}"
   ]
  },
  {
   "cell_type": "code",
   "execution_count": 48,
   "metadata": {},
   "outputs": [],
   "source": [
    "class Solution7 {\n",
    "\n",
    "    public int[] sort(int[] nums) {\n",
    "        \n",
    "        PriorityQueue<Integer> maxHeap = new PriorityQueue<>();\n",
    "        List<Integer> sorted = new ArrayList<>();\n",
    "\n",
    "        for (int num : nums) {\n",
    "            maxHeap.add(num);\n",
    "        }\n",
    "\n",
    "        while (!maxHeap.isEmpty()) {\n",
    "            sorted.add(maxHeap.poll());\n",
    "        }\n",
    "\n",
    "        return sorted.stream().mapToInt(Integer::intValue).toArray();\n",
    "    }\n",
    "}"
   ]
  },
  {
   "cell_type": "code",
   "execution_count": 49,
   "metadata": {},
   "outputs": [
    {
     "name": "stdout",
     "output_type": "stream",
     "text": [
      "1\n",
      "3\n",
      "5\n",
      "7\n",
      "9\n"
     ]
    }
   ],
   "source": [
    "Solution7 sol = new Solution7();\n",
    "int[] a = {9,3,5,7,1};\n",
    "int[] res = sol.sort(a);\n",
    "Arrays.stream(res).forEach(System.out::println);"
   ]
  }
 ],
 "metadata": {
  "kernelspec": {
   "display_name": "Java",
   "language": "java",
   "name": "java"
  },
  "language_info": {
   "codemirror_mode": "java",
   "file_extension": ".jshell",
   "mimetype": "text/x-java-source",
   "name": "Java",
   "pygments_lexer": "java",
   "version": "11.0.10+9-LTS"
  },
  "orig_nbformat": 4
 },
 "nbformat": 4,
 "nbformat_minor": 2
}

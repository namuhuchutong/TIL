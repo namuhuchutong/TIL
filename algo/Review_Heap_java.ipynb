{
 "cells": [
  {
   "cell_type": "code",
   "execution_count": 2,
   "metadata": {},
   "outputs": [],
   "source": [
    "class Solution {\n",
    "    public int findKthLargest(int[] nums, int k) {\n",
    "        \n",
    "         Queue<Integer> maxnHeap = new PriorityQueue<>(Collections.reverseOrder());\n",
    "\n",
    "        for (int num : nums) {\n",
    "            maxHeap.add(num);\n",
    "        }\n",
    "\n",
    "        for (int i = 0; i<k-1; i++)\n",
    "            maxHeap.poll();\n",
    "        \n",
    "        return maxHeap.poll();\n",
    "    }\n",
    "}"
   ]
  },
  {
   "cell_type": "code",
   "execution_count": 3,
   "metadata": {},
   "outputs": [],
   "source": [
    "class Solution2 {\n",
    "    public int[] topKFrequent(int[] nums, int k) {\n",
    "        Map<Integer, Integer> map = new HashMap<>();\n",
    "        for (int num : nums)\n",
    "            map.put(num, map.getOrDefault(num, 0)+1);\n",
    "\n",
    "        Queue<Map.Entry<Integer, Integer>> q = new PriorityQueue<>(Map.Entry.comparingByValue());\n",
    "        for (Map.Entry<Integer, Integer> e : map.entrySet()) {\n",
    "            q.offer(e);\n",
    "            if (q.size() > k)\n",
    "                q.poll();\n",
    "        }\n",
    "\n",
    "        List<Integer> res = new ArrayList<>();\n",
    "        for (Map.Entry<Integer, Integer> e : q)\n",
    "            res.add(e.getKey());\n",
    "        \n",
    "        return res.stream().mapToInt(Integer::intValue).toArray();\n",
    "    }\n",
    "}"
   ]
  },
  {
   "cell_type": "code",
   "execution_count": 2,
   "metadata": {},
   "outputs": [],
   "source": [
    "class Solution {\n",
    "    public List<String> topKFrequent(String[] words, int k) {\n",
    "        Map<String, Integer> map = new HashMap<>();\n",
    "        List<String> res = new LinkedList<>();\n",
    "        for (String word : words) {\n",
    "            map.put(word, map.getOrDefault(word, 0) + 1);\n",
    "        }\n",
    "\n",
    "        PriorityQueue<Map.Entry<String, Integer>> minHeap = new PriorityQueue<>(\n",
    "                (e1, e2) -> e1.getValue()==e2.getValue() ? e2.getKey().compareTo(e1.getKey()) : e1.getValue()-e2.getValue()\n",
    "        );\n",
    "        \n",
    "        for (Map.Entry<String, Integer> e : map.entrySet()) {\n",
    "            minHeap.offer(e);\n",
    "            if(minHeap.size() > k)\n",
    "                minHeap.poll();\n",
    "        }\n",
    "        \n",
    "        while(!minHeap.isEmpty())\n",
    "            res.add(0, minHeap.poll().getKey());\n",
    "        \n",
    "        return res;\n",
    "    }\n",
    "}"
   ]
  }
 ],
 "metadata": {
  "kernelspec": {
   "display_name": "Java",
   "language": "java",
   "name": "java"
  },
  "language_info": {
   "codemirror_mode": "java",
   "file_extension": ".jshell",
   "mimetype": "text/x-java-source",
   "name": "Java",
   "pygments_lexer": "java",
   "version": "11.0.10+9-LTS"
  },
  "orig_nbformat": 4
 },
 "nbformat": 4,
 "nbformat_minor": 2
}

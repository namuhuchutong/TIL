{
 "cells": [
  {
   "cell_type": "code",
   "execution_count": 2,
   "metadata": {},
   "outputs": [],
   "source": [
    "class Solution {\n",
    "    public int findKthLargest(int[] nums, int k) {\n",
    "        \n",
    "         Queue<Integer> maxnHeap = new PriorityQueue<>(Collections.reverseOrder());\n",
    "\n",
    "        for (int num : nums) {\n",
    "            maxHeap.add(num);\n",
    "        }\n",
    "\n",
    "        for (int i = 0; i<k-1; i++)\n",
    "            maxHeap.poll();\n",
    "        \n",
    "        return maxHeap.poll();\n",
    "    }\n",
    "}"
   ]
  },
  {
   "cell_type": "code",
   "execution_count": 3,
   "metadata": {},
   "outputs": [],
   "source": [
    "class Solution2 {\n",
    "    public int[] topKFrequent(int[] nums, int k) {\n",
    "        Map<Integer, Integer> map = new HashMap<>();\n",
    "        for (int num : nums)\n",
    "            map.put(num, map.getOrDefault(num, 0)+1);\n",
    "\n",
    "        Queue<Map.Entry<Integer, Integer>> q = new PriorityQueue<>(Map.Entry.comparingByValue());\n",
    "        for (Map.Entry<Integer, Integer> e : map.entrySet()) {\n",
    "            q.offer(e);\n",
    "            if (q.size() > k)\n",
    "                q.poll();\n",
    "        }\n",
    "\n",
    "        List<Integer> res = new ArrayList<>();\n",
    "        for (Map.Entry<Integer, Integer> e : q)\n",
    "            res.add(e.getKey());\n",
    "        \n",
    "        return res.stream().mapToInt(Integer::intValue).toArray();\n",
    "    }\n",
    "}"
   ]
  }
 ],
 "metadata": {
  "kernelspec": {
   "display_name": "Java",
   "language": "java",
   "name": "java"
  },
  "language_info": {
   "codemirror_mode": "java",
   "file_extension": ".jshell",
   "mimetype": "text/x-java-source",
   "name": "Java",
   "pygments_lexer": "java",
   "version": "11.0.10+9-LTS"
  },
  "orig_nbformat": 4
 },
 "nbformat": 4,
 "nbformat_minor": 2
}

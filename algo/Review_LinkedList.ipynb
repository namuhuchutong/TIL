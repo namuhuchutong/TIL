{
 "cells": [
  {
   "cell_type": "code",
   "execution_count": 1,
   "metadata": {},
   "outputs": [
    {
     "name": "stdout",
     "output_type": "stream",
     "text": [
      "1 3 5 7 3 1 \n",
      "3 5 7 3 \n"
     ]
    }
   ],
   "source": [
    "from typing import List\n",
    "\n",
    "class ListNode:\n",
    "  def __init__(self, x):\n",
    "    self.val = x\n",
    "    self.next = None\n",
    "\n",
    "def createList(in_list:List[int]) -> ListNode:\n",
    "  if len(in_list) == 0:\n",
    "    raise RuntimeError(\"in_list must have data\")        \n",
    "  head_node = ListNode(in_list[0])\n",
    "  last_node = head_node\n",
    "  for idx in range(1,len(in_list)):\n",
    "    node = ListNode(in_list[idx])\n",
    "    last_node.next = node\n",
    "    last_node = node\n",
    "  return head_node\n",
    "\n",
    "def printNodes(node:ListNode):\n",
    "  crnt_node = node\n",
    "  while crnt_node is not None:\n",
    "    print(crnt_node.val, end=' ')\n",
    "    crnt_node = crnt_node.next\n",
    "  print()\n",
    "\n",
    "class ElementRemover:\n",
    "  def __init__(self,val):\n",
    "    self.__val = val\n",
    "\n",
    "  #arg_node data is not kept\n",
    "  def recursive(self, node: ListNode) -> ListNode:\n",
    "    if not node:\n",
    "      return None\n",
    "    next_node = self.recursive(node.next)\n",
    "    if node.val == self.__val:\n",
    "      return next_node\n",
    "    else:\n",
    "      node.next = next_node\n",
    "      return node\n",
    "  \n",
    "  #arg_node data is not kept\n",
    "  def iterative(self, node: ListNode) -> ListNode:    \n",
    "    dummy_node = ListNode(0)\n",
    "    dummy_node.next = head\n",
    "    \n",
    "    crnt_node = head\n",
    "    prev_node = dummy_node\n",
    "    while crnt_node:\n",
    "      if crnt_node.val == self.__val:\n",
    "        prev_node.next = crnt_node.next\n",
    "        crnt_node = crnt_node.next\n",
    "      else:\n",
    "        crnt_node = crnt_node.next\n",
    "        prev_node = prev_node.next\n",
    "    return dummy_node.next\n",
    "  \n",
    "head = createList([1,3,5,7,3,1])\n",
    "printNodes(head)\n",
    "\n",
    "remover = ElementRemover(1)\n",
    "# ret = remover.iterative(head)\n",
    "ret = remover.recursive(head)\n",
    "printNodes(ret)\n"
   ]
  }
 ],
 "metadata": {
  "interpreter": {
   "hash": "aee8b7b246df8f9039afb4144a1f6fd8d2ca17a180786b69acc140d282b71a49"
  },
  "kernelspec": {
   "display_name": "Python 3.9.9 64-bit",
   "language": "python",
   "name": "python3"
  },
  "language_info": {
   "codemirror_mode": {
    "name": "ipython",
    "version": 3
   },
   "file_extension": ".py",
   "mimetype": "text/x-python",
   "name": "python",
   "nbconvert_exporter": "python",
   "pygments_lexer": "ipython3",
   "version": "3.9.9"
  },
  "orig_nbformat": 4
 },
 "nbformat": 4,
 "nbformat_minor": 2
}

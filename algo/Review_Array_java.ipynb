{
 "cells": [
  {
   "cell_type": "code",
   "execution_count": 8,
   "metadata": {},
   "outputs": [],
   "source": [
    "class Solution1 {\n",
    "    public int[] buildArray(int[] nums) {\n",
    "        int[] ans = new int[nums.length];\n",
    "\n",
    "        for(int i=0; i<nums.length; i++)\n",
    "            ans[i] = nums[nums[i]];\n",
    "        return ans;\n",
    "    }\n",
    "}"
   ]
  },
  {
   "cell_type": "code",
   "execution_count": 14,
   "metadata": {},
   "outputs": [],
   "source": [
    "class Solution2 {\n",
    "    public int[] getConcatenation(int[] nums) {\n",
    "        int[] ans = new int[nums.length * 2];\n",
    "        for (int i = 0; i<nums.length; i++);\n",
    "            ans[i+nums.length] = ans[i] = nums[i];\n",
    "        return ans;\n",
    "    }\n",
    "}"
   ]
  },
  {
   "cell_type": "code",
   "execution_count": 15,
   "metadata": {},
   "outputs": [],
   "source": [
    "class Solution3 {\n",
    "    public int[] runningSum(int[] nums) {\n",
    "        for (int i=1; i<nums.length; i++)\n",
    "            nums[i] += nums[i-1];\n",
    "        return nums;\n",
    "    }\n",
    "}"
   ]
  },
  {
   "cell_type": "code",
   "execution_count": 5,
   "metadata": {},
   "outputs": [
    {
     "name": "stdout",
     "output_type": "stream",
     "text": [
      "5\n"
     ]
    }
   ],
   "source": [
    "class Solution4 {\n",
    "    public int mostWordsFound(String[] sentences) {\n",
    "        return Stream.of(sentences).mapToInt(s -> s.split(\" \").length).max().getAsInt();\n",
    "    }\n",
    "}"
   ]
  },
  {
   "cell_type": "code",
   "execution_count": 11,
   "metadata": {},
   "outputs": [
    {
     "name": "stdout",
     "output_type": "stream",
     "text": [
      "24\n"
     ]
    }
   ],
   "source": [
    "class Solution5 {\n",
    "    public int maximumWealth(int[][] accounts) {\n",
    "        return Arrays.stream(accounts).mapToInt(i -> Arrays.stream(i).sum()).max().getAsInt();\n",
    "    }\n",
    "}"
   ]
  },
  {
   "cell_type": "code",
   "execution_count": 3,
   "metadata": {},
   "outputs": [
    {
     "name": "stdout",
     "output_type": "stream",
     "text": [
      "[I@c90ad16\n"
     ]
    }
   ],
   "source": [
    "class Solution6 {\n",
    "    public int[] shuffle(int[] nums, int n) {\n",
    "        int[] res = new int[2*n];\n",
    "        \n",
    "        for (int i = 0; i < n; i++) {\n",
    "            res[2*i] = nums[i];\n",
    "            res[2*i + 1] = nums[n+i];\n",
    "        }\n",
    "        return res;\n",
    "    }\n",
    "}"
   ]
  },
  {
   "cell_type": "code",
   "execution_count": 4,
   "metadata": {},
   "outputs": [],
   "source": [
    "class Solution7 {\n",
    "    public void moveZeroes(int[] nums) {\n",
    "        int idx1 = 0;\n",
    "        int temp;\n",
    "        for (int idx2 = 0; idx2 < nums.length; idx2++) {\n",
    "            if (nums[idx2] != 0) {\n",
    "                temp = nums[idx2];\n",
    "                nums[idx2] = nums[idx1];\n",
    "                nums[idx1] = temp;\n",
    "                idx1++;\n",
    "            }\n",
    "        }\n",
    "    }\n",
    "\n",
    "    public void moveZeroesReverse(int[] nums) {\n",
    "        int idx1 = nums.length - 1;\n",
    "        int temp;\n",
    "        for (int idx2 = idx1; idx2 > 0; idx2--) {\n",
    "            if (nums[idx2] != 0) {\n",
    "                temp = nums[idx2];\n",
    "                nums[idx2] = nums[idx1];\n",
    "                nums[idx1] = temp;\n",
    "            }\n",
    "        }\n",
    "    }\n",
    "}"
   ]
  },
  {
   "cell_type": "code",
   "execution_count": null,
   "metadata": {},
   "outputs": [],
   "source": [
    "import java.util.Arrays;\n",
    "class Solution8 {\n",
    "    public int pivotIndex(int[] nums) {\n",
    "        int leftSum = 0;\n",
    "        int rightSum =  Arrays.stream(nums).sum();\n",
    "        int passNum = 0;\n",
    "\n",
    "        for (int idx=0; idx<nums.length; i++) {\n",
    "            int num = nums[idx];\n",
    "            rightSum = rightSum - num;\n",
    "            leftSum = leftSum + passNum;\n",
    "\n",
    "            if (leftSum == rightSum) return idx;\n",
    "            passNum = num;\n",
    "        }\n",
    "    }\n",
    "}"
   ]
  },
  {
   "cell_type": "code",
   "execution_count": null,
   "metadata": {},
   "outputs": [],
   "source": [
    "class Solution9 {\n",
    "    public int minSubArrayLen(int target, int[] nums) {\n",
    "        int left = 0;\n",
    "        int sum = 0;\n",
    "        int min = Integer.MAX_VALUE;\n",
    "\n",
    "        for (int right = 0; right < nums.length; right++) {\n",
    "            sum = sum + nums[right];\n",
    "            while (sum >= target) {\n",
    "                min = Math.min(min, right - left + 1);\n",
    "                sum = sum - nums[left];\n",
    "                left++;\n",
    "            }\n",
    "        }\n",
    "        return (min == Integer.MAX_VALUE) ? 0 : min;\n",
    "    }\n",
    "}"
   ]
  },
  {
   "cell_type": "code",
   "execution_count": null,
   "metadata": {},
   "outputs": [],
   "source": [
    "class Solution10 {\n",
    "    public void sortColors(int[] nums) {\n",
    "        int idx0 = 0;\n",
    "        int idx1 = 0;\n",
    "        int idx2 = nums.length - 1;\n",
    "        int temp;\n",
    "        \n",
    "        while (idx1 <= idx2) {\n",
    "            if (nums[idx1] == 0) {\n",
    "                temp = nums[idx1];\n",
    "                nums[idx1] = nums[idx0];\n",
    "                nums[idx0] = temp;\n",
    "                \n",
    "                idx1++;\n",
    "                idx0++;\n",
    "            }\n",
    "            else if (nums[idx1] == 2) {\n",
    "                temp = nums[idx1];\n",
    "                nums[idx1] = nums[idx2];\n",
    "                nums[idx2] = temp;\n",
    "                \n",
    "                idx2--;\n",
    "            }\n",
    "            else idx1++;\n",
    "            \n",
    "        }\n",
    "    }\n",
    "}"
   ]
  },
  {
   "cell_type": "code",
   "execution_count": null,
   "metadata": {},
   "outputs": [],
   "source": [
    "class Solution11 {\n",
    "    public void merge(int[] nums1, int m, int[] nums2, int n) {\n",
    "        \n",
    "        int idx1 = m - 1;\n",
    "        int idx2 = n - 1;\n",
    "        int i = nums1.length - 1;\n",
    "        \n",
    "        if (idx2 < 0) {\n",
    "            return;\n",
    "        }\n",
    "        \n",
    "       while (0 <= idx1 && 0 <= idx2) {\n",
    "            if (nums1[idx1] < nums2[idx2]) {\n",
    "                nums1[i] = nums2[idx2];\n",
    "                idx2--;\n",
    "                i--;\n",
    "            }\n",
    "            else {\n",
    "                nums1[i] = nums1[idx1];\n",
    "                idx1--;\n",
    "                i--;\n",
    "            }\n",
    "        }\n",
    "        \n",
    "        while (0 <= idx2) {\n",
    "            nums1[i] = nums2[idx2];\n",
    "            idx2--;\n",
    "            i--;\n",
    "        }\n",
    "    }\n",
    "}"
   ]
  },
  {
   "cell_type": "code",
   "execution_count": null,
   "metadata": {},
   "outputs": [],
   "source": [
    "class Solution12 {\n",
    "    public int findPeakElement(int[] nums) {\n",
    "        int left = 0;\n",
    "        int right = nums.length - 1;\n",
    "        \n",
    "        while (left < right) {\n",
    "            int pivot = (right+left) / 2;\n",
    "            int num = nums[pivot];\n",
    "            int numNext = nums[pivot+1];\n",
    "            \n",
    "            if (num < numNext) left = pivot+1;\n",
    "            else right = pivot;\n",
    "        }\n",
    "        \n",
    "        return left;\n",
    "    }\n",
    "}"
   ]
  },
  {
   "cell_type": "code",
   "execution_count": null,
   "metadata": {},
   "outputs": [],
   "source": [
    "class Solution13 {\n",
    "    public int[][] merge(int[][] intervals) {\n",
    "        Arrays.sort(intervals, (i1, i2) -> Integer.compare(i1[0], i2[0]));\n",
    "        List<int[]> list = new ArrayList<>();\n",
    "        \n",
    "        int start = intervals[0][0];\n",
    "        int end = intervals[0][1];\n",
    "        \n",
    "        int head, tail;\n",
    "        \n",
    "        for(int[] interval : intervals) {\n",
    "            head = interval[0];\n",
    "            tail = interval[1];\n",
    "            \n",
    "            if (head <= end) {\n",
    "                end = Math.max(end, tail);\n",
    "            }\n",
    "            else {\n",
    "                list.add(new int[] {start, end});\n",
    "                start = head;\n",
    "                end = tail;\n",
    "            }\n",
    "        }\n",
    "        \n",
    "        list.add(new int[] {start, end});\n",
    "        return list.toArray(new int[list.size()][]);\n",
    "    }\n",
    "}"
   ]
  },
  {
   "cell_type": "code",
   "execution_count": null,
   "metadata": {},
   "outputs": [],
   "source": [
    "class Solution14 {\n",
    "    public int findUnsortedSubarray(int[] nums) {\n",
    "        int[] copiedNum = Arrays.copyOf(nums, nums.length);\n",
    "        Arrays.sort(nums);\n",
    "        \n",
    "        int start = -1;\n",
    "        int end = -1;\n",
    "        \n",
    "        for (int i = 0; i < nums.length; i++) {\n",
    "            if (nums[i] != copiedNum[i]) {\n",
    "                if(start == -1) start = i;\n",
    "                end = i;\n",
    "            }\n",
    "        }\n",
    "        return (start == end) ? 0 : end-start+1;\n",
    "    }\n",
    "}"
   ]
  },
  {
   "cell_type": "code",
   "execution_count": null,
   "metadata": {},
   "outputs": [],
   "source": [
    "class Solution15 {\n",
    "    public int findDuplicate(int[] nums) {\n",
    "        \n",
    "        for(int i = 0; i < nums.length; i++) {\n",
    "            if (nums[i] < 0) {\n",
    "                int idx = nums[i] * -1;\n",
    "                if (nums[idx] < 0)\n",
    "                    return idx;\n",
    "                else\n",
    "                    nums[idx] = nums[idx] * -1;\n",
    "            }\n",
    "            else {\n",
    "                if(nums[nums[i]] < 0)\n",
    "                    return nums[i];\n",
    "                else\n",
    "                    nums[nums[i]] = nums[nums[i]] * -1;\n",
    "            }\n",
    "        }\n",
    "        return 0;\n",
    "    }\n",
    "}"
   ]
  }
 ],
 "metadata": {
  "interpreter": {
   "hash": "767d51c1340bd893661ea55ea3124f6de3c7a262a8b4abca0554b478b1e2ff90"
  },
  "kernelspec": {
   "display_name": "Java",
   "language": "java",
   "name": "java"
  },
  "language_info": {
   "codemirror_mode": "java",
   "file_extension": ".jshell",
   "mimetype": "text/x-java-source",
   "name": "java",
   "pygments_lexer": "java",
   "version": "11.0.10+9-LTS"
  },
  "orig_nbformat": 4
 },
 "nbformat": 4,
 "nbformat_minor": 2
}

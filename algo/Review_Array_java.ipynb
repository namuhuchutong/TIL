{
 "cells": [
  {
   "cell_type": "code",
   "execution_count": 8,
   "metadata": {},
   "outputs": [],
   "source": [
    "class Solution1 {\n",
    "    public int[] buildArray(int[] nums) {\n",
    "        int[] ans = new int[nums.length];\n",
    "\n",
    "        for(int i=0; i<nums.length; i++)\n",
    "            ans[i] = nums[nums[i]];\n",
    "        return ans;\n",
    "    }\n",
    "}"
   ]
  },
  {
   "cell_type": "code",
   "execution_count": 14,
   "metadata": {},
   "outputs": [],
   "source": [
    "class Solution2 {\n",
    "    public int[] getConcatenation(int[] nums) {\n",
    "        int[] ans = new int[nums.length * 2];\n",
    "        for (int i = 0; i<nums.length; i++);\n",
    "            ans[i+nums.length] = ans[i] = nums[i];\n",
    "        return ans;\n",
    "    }\n",
    "}"
   ]
  },
  {
   "cell_type": "code",
   "execution_count": 15,
   "metadata": {},
   "outputs": [],
   "source": [
    "class Solution3 {\n",
    "    public int[] runningSum(int[] nums) {\n",
    "        for (int i=1; i<nums.length; i++)\n",
    "            nums[i] += nums[i-1];\n",
    "        return nums;\n",
    "    }\n",
    "}"
   ]
  },
  {
   "cell_type": "code",
   "execution_count": 5,
   "metadata": {},
   "outputs": [
    {
     "name": "stdout",
     "output_type": "stream",
     "text": [
      "5\n"
     ]
    }
   ],
   "source": [
    "class Solution4 {\n",
    "    public int mostWordsFound(String[] sentences) {\n",
    "        return Stream.of(sentences).mapToInt(s -> s.split(\" \").length).max().getAsInt();\n",
    "    }\n",
    "}"
   ]
  },
  {
   "cell_type": "code",
   "execution_count": 11,
   "metadata": {},
   "outputs": [
    {
     "name": "stdout",
     "output_type": "stream",
     "text": [
      "24\n"
     ]
    }
   ],
   "source": [
    "class Solution5 {\n",
    "    public int maximumWealth(int[][] accounts) {\n",
    "        return Arrays.stream(accounts).mapToInt(i -> Arrays.stream(i).sum()).max().getAsInt();\n",
    "    }\n",
    "}"
   ]
  }
 ],
 "metadata": {
  "interpreter": {
   "hash": "767d51c1340bd893661ea55ea3124f6de3c7a262a8b4abca0554b478b1e2ff90"
  },
  "kernelspec": {
   "display_name": "Java",
   "language": "java",
   "name": "java"
  },
  "language_info": {
   "codemirror_mode": "java",
   "file_extension": ".jshell",
   "mimetype": "text/x-java-source",
   "name": "Java",
   "pygments_lexer": "java",
   "version": "11.0.10+9-LTS"
  },
  "orig_nbformat": 4
 },
 "nbformat": 4,
 "nbformat_minor": 2
}

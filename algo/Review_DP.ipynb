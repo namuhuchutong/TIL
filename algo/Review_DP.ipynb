{
 "cells": [
  {
   "cell_type": "code",
   "execution_count": 3,
   "metadata": {},
   "outputs": [
    {
     "name": "stdout",
     "output_type": "stream",
     "text": [
      "21 ways\n"
     ]
    }
   ],
   "source": [
    "from typing import List  \n",
    "  \n",
    "def climbStairs(n: int) -> int:\n",
    "  dp_array = [0,1,2]\n",
    "\n",
    "  if n < len(dp_array):\n",
    "    return dp_array[n]\n",
    "\n",
    "  for i in range(3, n+1):\n",
    "    ith_way = dp_array[i-1] + dp_array[i-2]\n",
    "    dp_array.append(ith_way)\n",
    "  return dp_array[n]\n",
    "\n",
    "print(climbStairs(7),'ways')"
   ]
  },
  {
   "cell_type": "code",
   "execution_count": 4,
   "metadata": {},
   "outputs": [
    {
     "name": "stdout",
     "output_type": "stream",
     "text": [
      "12\n"
     ]
    }
   ],
   "source": [
    "def minCostStairs(cost: List[int]) -> int:\n",
    "    total_count = len(cost)\n",
    "    min_cost = [0] * (total_count + 1)\n",
    "    \n",
    "    for i in range(2, total_count + 1):\n",
    "      one_step = min_cost[i - 1] + cost[i - 1]\n",
    "      two_step = min_cost[i - 2] + cost[i - 2]\n",
    "      min_cost[i] = min(one_step, two_step)\n",
    "\n",
    "    return min_cost[total_count]\n",
    "\n",
    "stair_cost = [1,2,4,6,2,4,6,1]\n",
    "print(minCostStairs(cost=stair_cost))"
   ]
  }
 ],
 "metadata": {
  "interpreter": {
   "hash": "aee8b7b246df8f9039afb4144a1f6fd8d2ca17a180786b69acc140d282b71a49"
  },
  "kernelspec": {
   "display_name": "Python 3.9.9 64-bit",
   "language": "python",
   "name": "python3"
  },
  "language_info": {
   "codemirror_mode": {
    "name": "ipython",
    "version": 3
   },
   "file_extension": ".py",
   "mimetype": "text/x-python",
   "name": "python",
   "nbconvert_exporter": "python",
   "pygments_lexer": "ipython3",
   "version": "3.9.9"
  },
  "orig_nbformat": 4
 },
 "nbformat": 4,
 "nbformat_minor": 2
}

{
  "nbformat": 4,
  "nbformat_minor": 0,
  "metadata": {
    "colab": {
      "name": "Coding_Test_Review_Array.ipynb",
      "provenance": []
    },
    "kernelspec": {
      "name": "python3",
      "display_name": "Python 3"
    },
    "language_info": {
      "name": "python"
    }
  },
  "cells": [
    {
      "cell_type": "markdown",
      "metadata": {
        "id": "C2NwjONR9hTj"
      },
      "source": [
        "# Array\n",
        "\n",
        "- Sorting \n",
        "  - stable : merge \n",
        "  - unstable : quick, heap\n",
        "  - search : normal(o(n))\n",
        "  - if array is already sorted, you can use binary search(o(logN))\n",
        "\n"
      ]
    },
    {
      "cell_type": "markdown",
      "metadata": {
        "id": "zHbLCrlT-XrL"
      },
      "source": [
        "## Binary Search\n",
        "- left\n",
        "- right\n",
        "- pivot = (left+right) / 2\n",
        "\n",
        "1. 찾고자 하는 숫자와 피봇을 비교\n",
        "2. 작다면 right을 옮기고 크다면 left를 옮긴다.\n",
        "3. 위 과정을 반복함\n",
        "\n",
        "- 만약 찾고자 하는 숫자가 없다면?\n",
        "- 찾는 도중에 left와 right의 위치가 변경됨\n",
        "- return -1"
      ]
    },
    {
      "cell_type": "code",
      "metadata": {
        "id": "sEWvxbuc9dxh",
        "colab": {
          "base_uri": "https://localhost:8080/"
        },
        "outputId": "cdfb8e48-cf1a-4c77-9c04-b3ebe8dd1e9c"
      },
      "source": [
        "def BinarySearch(arr, target):\n",
        "  left = 0\n",
        "  right = len(arr)\n",
        "\n",
        "  while(left <= right):\n",
        "    pivot = (left+right)//2\n",
        "    if arr[pivot] == target:\n",
        "      return pivot\n",
        "    elif arr[pivot] < target:\n",
        "      left = pivot + 1\n",
        "    else:\n",
        "      right = pivot - 1\n",
        "  return -1\n",
        "\n",
        "arr = [1, 3, 5, 6, 7, 15, 20]\n",
        "print(BinarySearch(arr, 15))"
      ],
      "execution_count": 3,
      "outputs": [
        {
          "output_type": "stream",
          "name": "stdout",
          "text": [
            "5\n"
          ]
        }
      ]
    },
    {
      "cell_type": "markdown",
      "metadata": {
        "id": "-XF_VqCBUmXS"
      },
      "source": [
        "### leetcode 283\n",
        "\n",
        "https://leetcode.com/problems/move-zeroes/\n",
        "\n",
        "- 포인터를 2개로 나누어 스왑을 진행한다.\n",
        "  - 숫자를 한 곳으로 모으는 포인터 (파랑)\n",
        "  - 0이 아닌 숫자를 찾는 포인터 (주황)\n",
        "- 주황 포인터는 0이 아닌 숫자를 찾을 때까지 계속 진행\n",
        "- 0을 찾으면 파랑 포인터와 주황 포인터 값을 스왑\n",
        "- 스왑 후 파랑 포인터는 1을 추가"
      ]
    },
    {
      "cell_type": "code",
      "metadata": {
        "colab": {
          "base_uri": "https://localhost:8080/"
        },
        "id": "vPaJQPOrUtOl",
        "outputId": "fd65aefc-bdaa-438d-fadc-bd1ceda6b8e3"
      },
      "source": [
        "def moveZeroes(arr):\n",
        "  wIdx = 0\n",
        "  for idx in range(len(arr)):\n",
        "    if arr[idx] != 0:\n",
        "      arr[idx], arr[wIdx] = arr[wIdx], arr[idx]\n",
        "      wIdx = wIdx + 1\n",
        "  for i in range(wIdx, len(arr)):\n",
        "    arr[i] = 0\n",
        "\n",
        "arr = [0, 1, 0, 3, 12]\n",
        "arr = [0]\n",
        "moveZeroes(arr)\n",
        "print(arr)"
      ],
      "execution_count": 6,
      "outputs": [
        {
          "output_type": "stream",
          "name": "stdout",
          "text": [
            "[0]\n"
          ]
        }
      ]
    },
    {
      "cell_type": "markdown",
      "metadata": {
        "id": "4Be-lbYgY7ft"
      },
      "source": [
        "### leetcode 724\n",
        "\n",
        "https://leetcode.com/problems/find-pivot-index/\n",
        "\n",
        "- Sliding 방법 (only 'positive integers')\n",
        "- 오른쪽 숫자의 합 (s1)\n",
        "- 왼쪽 숫자의 합 (s2)\n",
        "- s1과 s2가 같을 때 그 가운데 있는 숫자가 pivot\n",
        "- ex) [1 8 2 9 2 3 6]\n",
        "  - s1 = 11, s2 == 11, pivot = 9\n",
        "\n",
        "- if brute force : o(n^2)\n",
        "  - 효율 x\n",
        "\n",
        "- 첫 인덱스를 선택하고 나머지들을 더한다.\n",
        "- ex) [1 8 2 9 2 3 6]\n",
        "  - 0 | s\n",
        "  - 1 | s-1\n",
        "  - 1+8 | s-1-8\n",
        "  - ..."
      ]
    },
    {
      "cell_type": "code",
      "metadata": {
        "colab": {
          "base_uri": "https://localhost:8080/"
        },
        "id": "H41CUaIbY7BF",
        "outputId": "635d3f02-7b4b-4fff-acb5-33eb84503a76"
      },
      "source": [
        "def FindPivot(arr):\n",
        "  left = 0\n",
        "  right = sum(arr)\n",
        "  pre = 0\n",
        "  num = 0\n",
        "\n",
        "  for idx in range(len(arr)):\n",
        "    num = arr[idx]\n",
        "    right = right - num\n",
        "    left = left + pre\n",
        "\n",
        "    if left == right:\n",
        "      return idx\n",
        "    \n",
        "    pre = num\n",
        "  return -1\n",
        "\n",
        "arr = [1,7,3,6,5,6]\n",
        "print(FindPivot(arr))"
      ],
      "execution_count": 3,
      "outputs": [
        {
          "output_type": "stream",
          "name": "stdout",
          "text": [
            "6\n"
          ]
        }
      ]
    },
    {
      "cell_type": "markdown",
      "metadata": {
        "id": "B4KJMd3zxkqE"
      },
      "source": [
        "### leetcode 209\n",
        "\n",
        "https://leetcode.com/problems/minimum-size-subarray-sum/\n",
        "\n",
        "- brute force 방법으로 해결\n",
        "- 시간초과"
      ]
    },
    {
      "cell_type": "code",
      "metadata": {
        "colab": {
          "base_uri": "https://localhost:8080/"
        },
        "id": "mJoZWyArxyCt",
        "outputId": "4552a8d8-1c2f-4b16-d4a8-c32296b703ce"
      },
      "source": [
        "def FindSubarray(arr, target):\n",
        "  if len(arr) == 0: return 0\n",
        "\n",
        "  length = len(arr)\n",
        "  minSize = float('inf')\n",
        "\n",
        "  for p1 in range(length):\n",
        "    s = 0\n",
        "    for p2 in range(p1, length):\n",
        "      s = s + arr[p2]\n",
        "      if target <= s:\n",
        "        minSize = min(minSize, p2-p1+1)\n",
        "  \n",
        "  if minSize == float('inf'):\n",
        "    return 0\n",
        "\n",
        "  return minSize\n",
        "\n",
        "target = 7\n",
        "nums = [2,3,1,2,4,3]\n",
        "\n",
        "print(FindSubarray(nums, target))"
      ],
      "execution_count": 25,
      "outputs": [
        {
          "output_type": "stream",
          "name": "stdout",
          "text": [
            "2\n"
          ]
        }
      ]
    },
    {
      "cell_type": "markdown",
      "metadata": {
        "id": "VSAKypHcJgEG"
      },
      "source": [
        "### leetcode 75\n",
        "\n",
        "https://leetcode.com/problems/sort-colors/\n",
        "\n",
        "- [1 0 2 2 0 1 2 1 0 ]\n",
        "1. 그냥 정렬하기 o(logN)\n",
        "2. 0, 1, 2 각각 갯수 세기 o(n)\n",
        "3. inplace swap은?\n",
        "  - pointer 3개를 사용해 o(n)\n",
        "  - 단, 정렬할 숫자를 미리 알고 있어야 함."
      ]
    },
    {
      "cell_type": "code",
      "metadata": {
        "colab": {
          "base_uri": "https://localhost:8080/"
        },
        "id": "WnKeGAfXJuB_",
        "outputId": "7431ffab-52db-47a8-b84a-b9a692d91e9e"
      },
      "source": [
        "def sortColors(num):\n",
        "  idx0 = 0\n",
        "  idx2 = len(num)-1\n",
        "  i = 0\n",
        "\n",
        "  while i <= idx2:\n",
        "    if num[i] == 0:\n",
        "      num[idx0], num[i] = num[i], num[idx0]\n",
        "      idx0+=1\n",
        "      i+=1\n",
        "    elif num[i] == 2:\n",
        "      num[idx2], num[i] = num[i], num[idx2]\n",
        "      idx2-=1\n",
        "    else:\n",
        "      i+=1\n",
        "  print(arr)\n",
        "\n",
        "arr = [1]\n",
        "sortColors(arr)"
      ],
      "execution_count": 31,
      "outputs": [
        {
          "output_type": "stream",
          "name": "stdout",
          "text": [
            "[1]\n"
          ]
        }
      ]
    },
    {
      "cell_type": "markdown",
      "metadata": {
        "id": "Pdq9kwF6UBbm"
      },
      "source": [
        "### leetcode 88\n",
        "\n",
        "https://leetcode.com/problems/merge-sorted-array/\n",
        "\n",
        "- 조건을 잘 고려하자"
      ]
    },
    {
      "cell_type": "code",
      "metadata": {
        "colab": {
          "base_uri": "https://localhost:8080/"
        },
        "id": "xhnk0UseUoPX",
        "outputId": "1fb59400-fb98-41cc-bef2-df7ff3e0856f"
      },
      "source": [
        "def MergeNums(num1, num2, m, n):\n",
        "  num1Idx = m-1\n",
        "  num2Idx = n-1\n",
        "  wIdx = len(num1)-1\n",
        "\n",
        "  while(0<= num1Idx and 0<= num2Idx):\n",
        "    if num1[num1Idx] >= num2[num2Idx]:\n",
        "      num1[wIdx] = num1[num1Idx]\n",
        "      num1Idx-=1\n",
        "      wIdx-=1\n",
        "    else:\n",
        "      num1[wIdx] = num2[num2Idx]\n",
        "      num2Idx-=1\n",
        "      wIdx-=1\n",
        "  while 0<=num2Idx:\n",
        "    num1[wIdx] = num2[num2Idx]\n",
        "    num2Idx-=1\n",
        "    wIdx-=1\n",
        "  print(num1)\n",
        "  \n",
        "num1 = [0]\n",
        "num2 = [1]\n",
        "m = 0\n",
        "n = 1\n",
        "MergeNums(num1, num2, m, n)"
      ],
      "execution_count": 43,
      "outputs": [
        {
          "output_type": "stream",
          "name": "stdout",
          "text": [
            "[1]\n"
          ]
        }
      ]
    },
    {
      "cell_type": "markdown",
      "metadata": {
        "id": "3_09Wr2UdO7Y"
      },
      "source": [
        "### leetcode 162\n",
        "\n",
        "https://leetcode.com/problems/find-peak-element/\n",
        "\n",
        "- 그래프를 그린다."
      ]
    },
    {
      "cell_type": "code",
      "metadata": {
        "colab": {
          "base_uri": "https://localhost:8080/"
        },
        "id": "ybxGFo3zdOWP",
        "outputId": "d18cdd9c-6f64-4770-a424-edf6dedb9d74"
      },
      "source": [
        "def finPeakElem(arr):\n",
        "  left = 0\n",
        "  right = len(arr) - 1\n",
        "\n",
        "  if right <= 1:\n",
        "    return 0\n",
        "  \n",
        "  while left < right:\n",
        "    pivot = (left+right)//2\n",
        "    num = arr[pivot]\n",
        "    nextNum = arr[pivot+1]\n",
        "\n",
        "    if num < nextNum:\n",
        "      left = pivot + 1\n",
        "    else:\n",
        "      right = pivot\n",
        "  return left\n",
        "\n",
        "arr = [1, 3, 2, 4, 5, 7, 6]\n",
        "print(finPeakElem(arr))"
      ],
      "execution_count": 5,
      "outputs": [
        {
          "output_type": "stream",
          "name": "stdout",
          "text": [
            "5\n"
          ]
        }
      ]
    },
    {
      "cell_type": "markdown",
      "metadata": {
        "id": "5YMIlbYJGgof"
      },
      "source": [
        "### leetcode 56\n",
        "\n",
        "https://leetcode.com/problems/merge-intervals/\n",
        "\n",
        "\n"
      ]
    },
    {
      "cell_type": "code",
      "metadata": {
        "id": "qEpgw0pkG4N8"
      },
      "source": [
        ""
      ],
      "execution_count": null,
      "outputs": []
    }
  ]
}
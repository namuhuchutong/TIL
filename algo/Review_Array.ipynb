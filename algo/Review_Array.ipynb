{
  "cells": [
    {
      "cell_type": "markdown",
      "metadata": {
        "id": "C2NwjONR9hTj"
      },
      "source": [
        "# Array\n",
        "\n",
        "- Sorting \n",
        "  - stable : merge \n",
        "  - unstable : quick, heap\n",
        "  - search : normal(o(n))\n",
        "  - if array is already sorted, you can use binary search(o(logN))\n",
        "\n"
      ]
    },
    {
      "cell_type": "markdown",
      "metadata": {
        "id": "zHbLCrlT-XrL"
      },
      "source": [
        "## Binary Search\n",
        "- left\n",
        "- right\n",
        "- pivot = (left+right) / 2\n",
        "\n",
        "1. 찾고자 하는 숫자와 피봇을 비교\n",
        "2. 작다면 right을 옮기고 크다면 left를 옮긴다.\n",
        "3. 위 과정을 반복함\n",
        "\n",
        "- 만약 찾고자 하는 숫자가 없다면?\n",
        "- 찾는 도중에 left와 right의 위치가 변경됨\n",
        "- return -1"
      ]
    },
    {
      "cell_type": "code",
      "execution_count": 1,
      "metadata": {
        "colab": {
          "base_uri": "https://localhost:8080/"
        },
        "id": "sEWvxbuc9dxh",
        "outputId": "cdfb8e48-cf1a-4c77-9c04-b3ebe8dd1e9c"
      },
      "outputs": [
        {
          "name": "stdout",
          "output_type": "stream",
          "text": [
            "5\n"
          ]
        }
      ],
      "source": [
        "def BinarySearch(arr, target):\n",
        "  left = 0\n",
        "  right = len(arr)\n",
        "\n",
        "  while(left <= right):\n",
        "    pivot = (left+right)//2\n",
        "    if arr[pivot] == target:\n",
        "      return pivot\n",
        "    elif arr[pivot] < target:\n",
        "      left = pivot + 1\n",
        "    else:\n",
        "      right = pivot - 1\n",
        "  return -1\n",
        "\n",
        "arr = [1, 3, 5, 6, 7, 15, 20]\n",
        "print(BinarySearch(arr, 15))"
      ]
    },
    {
      "cell_type": "markdown",
      "metadata": {
        "id": "-XF_VqCBUmXS"
      },
      "source": [
        "### leetcode 283\n",
        "\n",
        "https://leetcode.com/problems/move-zeroes/\n",
        "\n",
        "- 포인터를 2개로 나누어 스왑을 진행한다.\n",
        "  - 숫자를 한 곳으로 모으는 포인터 (파랑)\n",
        "  - 0이 아닌 숫자를 찾는 포인터 (주황)\n",
        "- 주황 포인터는 0이 아닌 숫자를 찾을 때까지 계속 진행\n",
        "- 0을 찾으면 파랑 포인터와 주황 포인터 값을 스왑\n",
        "- 스왑 후 파랑 포인터는 1을 추가"
      ]
    },
    {
      "cell_type": "code",
      "execution_count": 2,
      "metadata": {
        "colab": {
          "base_uri": "https://localhost:8080/"
        },
        "id": "vPaJQPOrUtOl",
        "outputId": "fd65aefc-bdaa-438d-fadc-bd1ceda6b8e3"
      },
      "outputs": [
        {
          "name": "stdout",
          "output_type": "stream",
          "text": [
            "[0]\n"
          ]
        }
      ],
      "source": [
        "def moveZeroes(arr):\n",
        "  wIdx = 0\n",
        "  for idx in range(len(arr)):\n",
        "    if arr[idx] != 0:\n",
        "      arr[idx], arr[wIdx] = arr[wIdx], arr[idx]\n",
        "      wIdx = wIdx + 1\n",
        "  for i in range(wIdx, len(arr)):\n",
        "    arr[i] = 0\n",
        "\n",
        "arr = [0, 1, 0, 3, 12]\n",
        "arr = [0]\n",
        "moveZeroes(arr)\n",
        "print(arr)"
      ]
    },
    {
      "cell_type": "markdown",
      "metadata": {
        "id": "4Be-lbYgY7ft"
      },
      "source": [
        "### leetcode 724\n",
        "\n",
        "https://leetcode.com/problems/find-pivot-index/\n",
        "\n",
        "- Sliding 방법 (only 'positive integers')\n",
        "- 오른쪽 숫자의 합 (s1)\n",
        "- 왼쪽 숫자의 합 (s2)\n",
        "- s1과 s2가 같을 때 그 가운데 있는 숫자가 pivot\n",
        "- ex) [1 8 2 9 2 3 6]\n",
        "  - s1 = 11, s2 == 11, pivot = 9\n",
        "\n",
        "- if brute force : o(n^2)\n",
        "  - 효율 x\n",
        "\n",
        "- 첫 인덱스를 선택하고 나머지들을 더한다.\n",
        "- ex) [1 8 2 9 2 3 6]\n",
        "  - 0 | s\n",
        "  - 1 | s-1\n",
        "  - 1+8 | s-1-8\n",
        "  - ..."
      ]
    },
    {
      "cell_type": "code",
      "execution_count": 3,
      "metadata": {
        "colab": {
          "base_uri": "https://localhost:8080/"
        },
        "id": "H41CUaIbY7BF",
        "outputId": "635d3f02-7b4b-4fff-acb5-33eb84503a76"
      },
      "outputs": [
        {
          "name": "stdout",
          "output_type": "stream",
          "text": [
            "3\n"
          ]
        }
      ],
      "source": [
        "def FindPivot(arr):\n",
        "  left = 0\n",
        "  right = sum(arr)\n",
        "  pre = 0\n",
        "  num = 0\n",
        "\n",
        "  for idx in range(len(arr)):\n",
        "    num = arr[idx]\n",
        "    right = right - num\n",
        "    left = left + pre\n",
        "\n",
        "    if left == right:\n",
        "      return idx\n",
        "    \n",
        "    pre = num\n",
        "  return -1\n",
        "\n",
        "arr = [1,7,3,6,5,6]\n",
        "print(FindPivot(arr))"
      ]
    },
    {
      "cell_type": "markdown",
      "metadata": {
        "id": "B4KJMd3zxkqE"
      },
      "source": [
        "### leetcode 209\n",
        "\n",
        "https://leetcode.com/problems/minimum-size-subarray-sum/\n",
        "\n",
        "- brute force 방법으로 해결\n",
        "- 시간초과"
      ]
    },
    {
      "cell_type": "code",
      "execution_count": 4,
      "metadata": {
        "colab": {
          "base_uri": "https://localhost:8080/"
        },
        "id": "mJoZWyArxyCt",
        "outputId": "4552a8d8-1c2f-4b16-d4a8-c32296b703ce"
      },
      "outputs": [
        {
          "name": "stdout",
          "output_type": "stream",
          "text": [
            "2\n"
          ]
        }
      ],
      "source": [
        "def FindSubarray(arr, target):\n",
        "  if len(arr) == 0: return 0\n",
        "\n",
        "  length = len(arr)\n",
        "  minSize = float('inf')\n",
        "\n",
        "  for p1 in range(length):\n",
        "    s = 0\n",
        "    for p2 in range(p1, length):\n",
        "      s = s + arr[p2]\n",
        "      if target <= s:\n",
        "        minSize = min(minSize, p2-p1+1)\n",
        "  \n",
        "  if minSize == float('inf'):\n",
        "    return 0\n",
        "\n",
        "  return minSize\n",
        "\n",
        "target = 7\n",
        "nums = [2,3,1,2,4,3]\n",
        "\n",
        "print(FindSubarray(nums, target))"
      ]
    },
    {
      "cell_type": "markdown",
      "metadata": {
        "id": "VSAKypHcJgEG"
      },
      "source": [
        "### leetcode 75\n",
        "\n",
        "https://leetcode.com/problems/sort-colors/\n",
        "\n",
        "- [1 0 2 2 0 1 2 1 0 ]\n",
        "1. 그냥 정렬하기 o(logN)\n",
        "2. 0, 1, 2 각각 갯수 세기 o(n)\n",
        "3. inplace swap은?\n",
        "  - pointer 3개를 사용해 o(n)\n",
        "  - 단, 정렬할 숫자를 미리 알고 있어야 함."
      ]
    },
    {
      "cell_type": "code",
      "execution_count": 5,
      "metadata": {
        "colab": {
          "base_uri": "https://localhost:8080/"
        },
        "id": "WnKeGAfXJuB_",
        "outputId": "7431ffab-52db-47a8-b84a-b9a692d91e9e"
      },
      "outputs": [
        {
          "name": "stdout",
          "output_type": "stream",
          "text": [
            "[1]\n"
          ]
        }
      ],
      "source": [
        "def sortColors(num):\n",
        "  idx0 = 0\n",
        "  idx2 = len(num)-1\n",
        "  i = 0\n",
        "\n",
        "  while i <= idx2:\n",
        "    if num[i] == 0:\n",
        "      num[idx0], num[i] = num[i], num[idx0]\n",
        "      idx0+=1\n",
        "      i+=1\n",
        "    elif num[i] == 2:\n",
        "      num[idx2], num[i] = num[i], num[idx2]\n",
        "      idx2-=1\n",
        "    else:\n",
        "      i+=1\n",
        "  print(arr)\n",
        "\n",
        "arr = [1]\n",
        "sortColors(arr)"
      ]
    },
    {
      "cell_type": "markdown",
      "metadata": {
        "id": "Pdq9kwF6UBbm"
      },
      "source": [
        "### leetcode 88\n",
        "\n",
        "https://leetcode.com/problems/merge-sorted-array/\n",
        "\n",
        "- 조건을 잘 고려하자"
      ]
    },
    {
      "cell_type": "code",
      "execution_count": 6,
      "metadata": {
        "colab": {
          "base_uri": "https://localhost:8080/"
        },
        "id": "xhnk0UseUoPX",
        "outputId": "1fb59400-fb98-41cc-bef2-df7ff3e0856f"
      },
      "outputs": [
        {
          "name": "stdout",
          "output_type": "stream",
          "text": [
            "[1]\n"
          ]
        }
      ],
      "source": [
        "def MergeNums(num1, num2, m, n):\n",
        "  num1Idx = m-1\n",
        "  num2Idx = n-1\n",
        "  wIdx = len(num1)-1\n",
        "\n",
        "  while(0<= num1Idx and 0<= num2Idx):\n",
        "    if num1[num1Idx] >= num2[num2Idx]:\n",
        "      num1[wIdx] = num1[num1Idx]\n",
        "      num1Idx-=1\n",
        "      wIdx-=1\n",
        "    else:\n",
        "      num1[wIdx] = num2[num2Idx]\n",
        "      num2Idx-=1\n",
        "      wIdx-=1\n",
        "  while 0<=num2Idx:\n",
        "    num1[wIdx] = num2[num2Idx]\n",
        "    num2Idx-=1\n",
        "    wIdx-=1\n",
        "  print(num1)\n",
        "  \n",
        "num1 = [0]\n",
        "num2 = [1]\n",
        "m = 0\n",
        "n = 1\n",
        "MergeNums(num1, num2, m, n)"
      ]
    },
    {
      "cell_type": "markdown",
      "metadata": {
        "id": "3_09Wr2UdO7Y"
      },
      "source": [
        "### leetcode 162\n",
        "\n",
        "https://leetcode.com/problems/find-peak-element/\n",
        "\n",
        "- 그래프를 그린다."
      ]
    },
    {
      "cell_type": "code",
      "execution_count": 7,
      "metadata": {
        "colab": {
          "base_uri": "https://localhost:8080/"
        },
        "id": "ybxGFo3zdOWP",
        "outputId": "d18cdd9c-6f64-4770-a424-edf6dedb9d74"
      },
      "outputs": [
        {
          "name": "stdout",
          "output_type": "stream",
          "text": [
            "5\n"
          ]
        }
      ],
      "source": [
        "def finPeakElem(arr):\n",
        "  left = 0\n",
        "  right = len(arr) - 1\n",
        "\n",
        "  if right <= 1:\n",
        "    return 0\n",
        "  \n",
        "  while left < right:\n",
        "    pivot = (left+right)//2\n",
        "    num = arr[pivot]\n",
        "    nextNum = arr[pivot+1]\n",
        "\n",
        "    if num < nextNum:\n",
        "      left = pivot + 1\n",
        "    else:\n",
        "      right = pivot\n",
        "  return left\n",
        "\n",
        "arr = [1, 3, 2, 4, 5, 7, 6]\n",
        "print(finPeakElem(arr))"
      ]
    },
    {
      "cell_type": "markdown",
      "metadata": {
        "id": "5YMIlbYJGgof"
      },
      "source": [
        "### leetcode 56\n",
        "\n",
        "https://leetcode.com/problems/merge-intervals/\n",
        "interval merge array"
      ]
    },
    {
      "cell_type": "code",
      "execution_count": 8,
      "metadata": {
        "id": "qEpgw0pkG4N8"
      },
      "outputs": [
        {
          "name": "stdout",
          "output_type": "stream",
          "text": [
            "[[1, 6], [8, 10], [15, 18]]\n"
          ]
        }
      ],
      "source": [
        "intervals = [[1, 3], [2, 6], [8, 10], [15, 18]]\n",
        "\n",
        "def merge(intervals):\n",
        "    intervals.sort(key=lambda x: x[0])\n",
        "    merged = []\n",
        "\n",
        "    for i in intervals:\n",
        "        if not merged or merged[-1][-1] < i[0]:\n",
        "            merged.append(i)\n",
        "        else:\n",
        "            merged[-1][-1] = max(merged[-1][-1], i[-1])\n",
        "\n",
        "    return merged\n",
        "\n",
        "print(merge(intervals))"
      ]
    },
    {
      "cell_type": "markdown",
      "metadata": {},
      "source": [
        "### leetcode 581\n",
        "https://leetcode.com/problems/shortest-unsorted-continuous-subarray/\n",
        "\n",
        "- 주어진 배열에서 정렬을 진행함\n",
        "- 이 때, 정렬된 배열의 가장 짧게해서 리턴\n",
        "- [2,5,7,6,3,9,15] 에서 정렬할 부분은 [5,7,6,3]을 정렬해야 함.\n",
        "- 리턴 값은 4\n",
        "- [2,5,7,6,3]을 정렬해도 같은 결과이지만, 리턴 값이 5가 됨 -> 오답\n",
        "\n",
        "그래프를 그려라"
      ]
    },
    {
      "cell_type": "code",
      "execution_count": null,
      "metadata": {},
      "outputs": [],
      "source": [
        "def find(nums):\n",
        "    if len(nums) < 2:\n",
        "        return 0\n",
        "\n",
        "    prev = nums[0]\n",
        "    end = 0\n",
        "\n",
        "    for i in range(len(nums)):\n",
        "        if nums[i] < prev:\n",
        "            end = i\n",
        "        else:\n",
        "            prev = nums[i]\n",
        "\n",
        "    start = len(nums) - 1\n",
        "    prev = nums[start]\n",
        "\n",
        "    for i in range(len(nums)-1, -1, -1):\n",
        "        if prev < nums[i]:\n",
        "            start =  i\n",
        "        else:\n",
        "            prev = nums[i]\n",
        "    \n",
        "    if end != 0:\n",
        "        return end - start + 1\n",
        "    else:\n",
        "        return 0"
      ]
    },
    {
      "cell_type": "markdown",
      "metadata": {},
      "source": [
        "### leetcod 287\n",
        "https://leetcode.com/problems/find-the-duplicate-number/\n",
        "\n",
        "- time : o(n)\n",
        "- space : o(1)\n",
        "- 주어진 배열의 인덱스를 활용해서 계산함 \n",
        "    - 지나가면 값에 -1을 곱한다.\n",
        "    - 만약 (-) 값을 만나면?\n",
        "    - 해당 값은 duplicated 된 것. 결과를 반환함"
      ]
    },
    {
      "cell_type": "code",
      "execution_count": 27,
      "metadata": {},
      "outputs": [
        {
          "name": "stdout",
          "output_type": "stream",
          "text": [
            "2\n"
          ]
        }
      ],
      "source": [
        "def findDuplicated(nums):\n",
        "    for i in range(len(nums)):\n",
        "        if nums[nums[i]] > 0:\n",
        "            nums[nums[i]] = nums[nums[i]] * -1\n",
        "        else:\n",
        "            return i\n",
        "    return 0\n",
        "\n",
        "nums = [3,1,3,4,2]\n",
        "print(findDuplicated(nums))"
      ]
    },
    {
      "cell_type": "code",
      "execution_count": null,
      "metadata": {},
      "outputs": [],
      "source": []
    }
  ],
  "metadata": {
    "colab": {
      "name": "Coding_Test_Review_Array.ipynb",
      "provenance": []
    },
    "kernelspec": {
      "display_name": "Python 3",
      "name": "python3"
    },
    "language_info": {
      "codemirror_mode": {
        "name": "ipython",
        "version": 3
      },
      "file_extension": ".py",
      "mimetype": "text/x-python",
      "name": "python",
      "nbconvert_exporter": "python",
      "pygments_lexer": "ipython3",
      "version": "3.9.9"
    }
  },
  "nbformat": 4,
  "nbformat_minor": 0
}

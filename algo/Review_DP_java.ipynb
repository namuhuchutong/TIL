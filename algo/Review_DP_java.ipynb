{
 "cells": [
  {
   "cell_type": "code",
   "execution_count": 1,
   "metadata": {},
   "outputs": [],
   "source": [
    "class Solution {\n",
    "    public int climbStairs(int n) {\n",
    "        List<Integer> list = new ArrayList<>();\n",
    "        list.add(0);\n",
    "        list.add(1);\n",
    "        list.add(2);\n",
    "\n",
    "        if (n < list.size())\n",
    "            return list.get(n);\n",
    "\n",
    "        for (int i = 3; i < n+1; i++) {\n",
    "            int ith = list.get(i-1) + list.get(i-2);\n",
    "            list.add(ith);\n",
    "        }\n",
    "\n",
    "        return list.get(n);\n",
    "    }\n",
    "}"
   ]
  },
  {
   "cell_type": "code",
   "execution_count": 3,
   "metadata": {},
   "outputs": [],
   "source": [
    "List<Long> list = new ArrayList<>();\n",
    "list.add(0);\n",
    "list.add(1);\n",
    "long Fib(int n) {\n",
    "    if (n < list.size()) {\n",
    "        return list.get(n);\n",
    "    }\n",
    "    else {\n",
    "        long FibNum = Fib(n-1) + Fib(n-2);\n",
    "        list.add(FibNum);\n",
    "        return FibNum;\n",
    "    }\n",
    "}"
   ]
  },
  {
   "cell_type": "code",
   "execution_count": 18,
   "metadata": {},
   "outputs": [],
   "source": [
    "long FibDP(int n) {\n",
    "    if (n == 0) {\n",
    "        return 0;\n",
    "    }\n",
    "    else if (n == 1) {\n",
    "        return 1;\n",
    "    }\n",
    "    List<Integer> list = new ArrayList<>();\n",
    "    list.add(0);\n",
    "    list.add(1);\n",
    "\n",
    "    for (int i = 2; i < n+1; i++) {\n",
    "        int num = list.get(i-1) + list.get(i-2);\n",
    "        list.add(num);\n",
    "    }\n",
    "    return list.get(n);\n",
    "}"
   ]
  },
  {
   "cell_type": "code",
   "execution_count": 21,
   "metadata": {},
   "outputs": [
    {
     "data": {
      "text/plain": [
       "9227465"
      ]
     },
     "execution_count": 21,
     "metadata": {},
     "output_type": "execute_result"
    }
   ],
   "source": [
    "FibDP(35);"
   ]
  },
  {
   "cell_type": "code",
   "execution_count": 3,
   "metadata": {},
   "outputs": [],
   "source": [
    "class Solution2 {\n",
    "    public int minCostClimbingStairs(int[] cost) {\n",
    "        int length = cost.length;\n",
    "        int[] dp = new int[length];\n",
    "        for (int i = 0; i < length; i++) {\n",
    "            if (i < 2) {\n",
    "                dp[i] = cost[i];\n",
    "            } else {\n",
    "                dp[i] = cost[i] + Math.min(dp[i-1], dp[i-2]);\n",
    "            }\n",
    "        }\n",
    "        return Math.min(dp[length-1], dp[length-2]);\n",
    "    }\n",
    "}"
   ]
  },
  {
   "cell_type": "code",
   "execution_count": null,
   "metadata": {},
   "outputs": [],
   "source": []
  }
 ],
 "metadata": {
  "kernelspec": {
   "display_name": "Java",
   "language": "java",
   "name": "java"
  },
  "language_info": {
   "codemirror_mode": "java",
   "file_extension": ".jshell",
   "mimetype": "text/x-java-source",
   "name": "Java",
   "pygments_lexer": "java",
   "version": "11.0.10+9-LTS"
  },
  "orig_nbformat": 4
 },
 "nbformat": 4,
 "nbformat_minor": 2
}

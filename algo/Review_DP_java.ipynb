{
 "cells": [
  {
   "cell_type": "code",
   "execution_count": 1,
   "metadata": {},
   "outputs": [],
   "source": [
    "class Solution {\n",
    "    public int climbStairs(int n) {\n",
    "        List<Integer> list = new ArrayList<>();\n",
    "        list.add(0);\n",
    "        list.add(1);\n",
    "        list.add(2);\n",
    "\n",
    "        if (n < list.size())\n",
    "            return list.get(n);\n",
    "\n",
    "        for (int i = 3; i < n+1; i++) {\n",
    "            int ith = list.get(i-1) + list.get(i-2);\n",
    "            list.add(ith);\n",
    "        }\n",
    "\n",
    "        return list.get(n);\n",
    "    }\n",
    "}"
   ]
  },
  {
   "cell_type": "code",
   "execution_count": 3,
   "metadata": {},
   "outputs": [],
   "source": [
    "List<Long> list = new ArrayList<>();\n",
    "list.add(0);\n",
    "list.add(1);\n",
    "long Fib(int n) {\n",
    "    if (n < list.size()) {\n",
    "        return list.get(n);\n",
    "    }\n",
    "    else {\n",
    "        long FibNum = Fib(n-1) + Fib(n-2);\n",
    "        list.add(FibNum);\n",
    "        return FibNum;\n",
    "    }\n",
    "}"
   ]
  },
  {
   "cell_type": "code",
   "execution_count": 18,
   "metadata": {},
   "outputs": [],
   "source": [
    "long FibDP(int n) {\n",
    "    if (n == 0) {\n",
    "        return 0;\n",
    "    }\n",
    "    else if (n == 1) {\n",
    "        return 1;\n",
    "    }\n",
    "    List<Integer> list = new ArrayList<>();\n",
    "    list.add(0);\n",
    "    list.add(1);\n",
    "\n",
    "    for (int i = 2; i < n+1; i++) {\n",
    "        int num = list.get(i-1) + list.get(i-2);\n",
    "        list.add(num);\n",
    "    }\n",
    "    return list.get(n);\n",
    "}"
   ]
  },
  {
   "cell_type": "code",
   "execution_count": 21,
   "metadata": {},
   "outputs": [
    {
     "data": {
      "text/plain": [
       "9227465"
      ]
     },
     "execution_count": 21,
     "metadata": {},
     "output_type": "execute_result"
    }
   ],
   "source": [
    "FibDP(35);"
   ]
  },
  {
   "cell_type": "code",
   "execution_count": 23,
   "metadata": {},
   "outputs": [
    {
     "ename": "CompilationException",
     "evalue": "",
     "output_type": "error",
     "traceback": [
      "\u001b[1m\u001b[30m|   \u001b[1m\u001b[30m        List<Integer> minCost = \u001b[0m\u001b[1m\u001b[30m\u001b[41mIntStream\u001b[0m\u001b[1m\u001b[30m.of(new int[total+1])\u001b[0m",
      "\u001b[1m\u001b[31mcannot find symbol\u001b[0m",
      "\u001b[1m\u001b[31m  symbol:   variable IntStream\u001b[0m",
      "",
      "\u001b[1m\u001b[30m|   \u001b[1m\u001b[30m                                            .collect(\u001b[0m\u001b[1m\u001b[30m\u001b[41mCollectors\u001b[0m\u001b[1m\u001b[30m.tolist());\u001b[0m",
      "\u001b[1m\u001b[31mcannot find symbol\u001b[0m",
      "\u001b[1m\u001b[31m  symbol:   variable Collectors\u001b[0m",
      "",
      "\u001b[1m\u001b[30m|   \u001b[1m\u001b[30m            int oneStep = \u001b[0m\u001b[1m\u001b[30m\u001b[41mminCost[i-1]\u001b[0m\u001b[1m\u001b[30m + cost[i-1];\u001b[0m",
      "\u001b[1m\u001b[31marray required, but java.util.List<java.lang.Integer> found\u001b[0m",
      "",
      "\u001b[1m\u001b[30m|   \u001b[1m\u001b[30m            int twoStep = \u001b[0m\u001b[1m\u001b[30m\u001b[41mminCost[i-2]\u001b[0m\u001b[1m\u001b[30m + cost[i-2];\u001b[0m",
      "\u001b[1m\u001b[31marray required, but java.util.List<java.lang.Integer> found\u001b[0m",
      "",
      "\u001b[1m\u001b[30m|   \u001b[1m\u001b[30m            \u001b[0m\u001b[1m\u001b[30m\u001b[41mminCost[i]\u001b[0m\u001b[1m\u001b[30m = Math.min(oneStep, twoStep);\u001b[0m",
      "\u001b[1m\u001b[31marray required, but java.util.List<java.lang.Integer> found\u001b[0m",
      "",
      "\u001b[1m\u001b[30m|   \u001b[1m\u001b[30m        return \u001b[0m\u001b[1m\u001b[30m\u001b[41mminCost[total]\u001b[0m\u001b[1m\u001b[30m;\u001b[0m",
      "\u001b[1m\u001b[31marray required, but java.util.List<java.lang.Integer> found\u001b[0m",
      ""
     ]
    }
   ],
   "source": [
    "class Solution2 {\n",
    "    public int minCostClimbingStairs(int[] cost) {\n",
    "        int total = cost.length;\n",
    "        List<Integer> minCost = IntStream.of(new int[total+1])\n",
    "                                            .boxed()\n",
    "                                            .collect(Collectors.tolist());\n",
    "        \n",
    "        for (int i = 2; i < total+1; i++) {\n",
    "            int oneStep = minCost[i-1] + cost[i-1];\n",
    "            int twoStep = minCost[i-2] + cost[i-2];\n",
    "            minCost[i] = Math.min(oneStep, twoStep);\n",
    "        }\n",
    "\n",
    "        return minCost[total];\n",
    "    }\n",
    "}"
   ]
  }
 ],
 "metadata": {
  "kernelspec": {
   "display_name": "Java",
   "language": "java",
   "name": "java"
  },
  "language_info": {
   "codemirror_mode": "java",
   "file_extension": ".jshell",
   "mimetype": "text/x-java-source",
   "name": "Java",
   "pygments_lexer": "java",
   "version": "11.0.10+9-LTS"
  },
  "orig_nbformat": 4
 },
 "nbformat": 4,
 "nbformat_minor": 2
}

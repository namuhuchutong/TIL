{
 "cells": [
  {
   "cell_type": "code",
   "execution_count": 1,
   "metadata": {},
   "outputs": [],
   "source": [
    "class Solution {\n",
    "    public int climbStairs(int n) {\n",
    "        List<Integer> list = new ArrayList<>();\n",
    "        list.add(0);\n",
    "        list.add(1);\n",
    "        list.add(2);\n",
    "\n",
    "        if (n < list.size())\n",
    "            return list.get(n);\n",
    "\n",
    "        for (int i = 3; i < n+1; i++) {\n",
    "            int ith = list.get(i-1) + list.get(i-2);\n",
    "            list.add(ith);\n",
    "        }\n",
    "\n",
    "        return list.get(n);\n",
    "    }\n",
    "}"
   ]
  },
  {
   "cell_type": "code",
   "execution_count": null,
   "metadata": {},
   "outputs": [],
   "source": []
  }
 ],
 "metadata": {
  "kernelspec": {
   "display_name": "Java",
   "language": "java",
   "name": "java"
  },
  "language_info": {
   "codemirror_mode": "java",
   "file_extension": ".jshell",
   "mimetype": "text/x-java-source",
   "name": "java",
   "pygments_lexer": "java",
   "version": "11.0.10+9-LTS"
  },
  "orig_nbformat": 4
 },
 "nbformat": 4,
 "nbformat_minor": 2
}

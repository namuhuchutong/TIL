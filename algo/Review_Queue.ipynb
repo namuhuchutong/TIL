{
 "cells": [
  {
   "cell_type": "code",
   "execution_count": 1,
   "metadata": {},
   "outputs": [
    {
     "name": "stdout",
     "output_type": "stream",
     "text": [
      "1 3 5 7 9 "
     ]
    }
   ],
   "source": [
    "class Node:\n",
    "  def __init__(self,val: int):\n",
    "    self.val = val\n",
    "    self.next = None\n",
    "\n",
    "class Queue:\n",
    "  def __init__(self):\n",
    "    self._head = Node(0)\n",
    "    self._last = self._head\n",
    "\n",
    "  def enqueue(self,val:int):\n",
    "    new_node = Node(val)    \n",
    "    self._last.next = new_node\n",
    "    self._last = new_node\n",
    "\n",
    "  def dequeue(self) -> int:\n",
    "    if self._head == self._last:\n",
    "      raise RuntimeError('No Elem')\n",
    "\n",
    "    first_node = self._head.next\n",
    "    value = first_node.val\n",
    "    if first_node == self._last:\n",
    "      self._last = self._head\n",
    "      return value    \n",
    "    \n",
    "    self._head.next = first_node.next\n",
    "    return value\n",
    "\n",
    "queue = Queue()\n",
    "queue.enqueue(1)\n",
    "queue.enqueue(3)\n",
    "queue.enqueue(5)\n",
    "queue.enqueue(7)\n",
    "queue.enqueue(9)\n",
    "\n",
    "print(queue.dequeue(), end=' ')\n",
    "print(queue.dequeue(), end=' ')\n",
    "print(queue.dequeue(), end=' ')\n",
    "print(queue.dequeue(), end=' ')\n",
    "print(queue.dequeue(), end=' ')"
   ]
  }
 ],
 "metadata": {
  "interpreter": {
   "hash": "aee8b7b246df8f9039afb4144a1f6fd8d2ca17a180786b69acc140d282b71a49"
  },
  "kernelspec": {
   "display_name": "Python 3.9.9 64-bit",
   "language": "python",
   "name": "python3"
  },
  "language_info": {
   "codemirror_mode": {
    "name": "ipython",
    "version": 3
   },
   "file_extension": ".py",
   "mimetype": "text/x-python",
   "name": "python",
   "nbconvert_exporter": "python",
   "pygments_lexer": "ipython3",
   "version": "3.9.9"
  },
  "orig_nbformat": 4
 },
 "nbformat": 4,
 "nbformat_minor": 2
}

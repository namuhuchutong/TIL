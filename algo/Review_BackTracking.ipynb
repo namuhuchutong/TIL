{
 "cells": [
  {
   "cell_type": "markdown",
   "metadata": {},
   "source": [
    "## Phone Keypad"
   ]
  },
  {
   "cell_type": "code",
   "execution_count": 1,
   "metadata": {},
   "outputs": [
    {
     "name": "stdout",
     "output_type": "stream",
     "text": [
      "['ajw', 'ajx', 'ajy', 'ajz', 'akw', 'akx', 'aky', 'akz', 'alw', 'alx', 'aly', 'alz', 'bjw', 'bjx', 'bjy', 'bjz', 'bkw', 'bkx', 'bky', 'bkz', 'blw', 'blx', 'bly', 'blz', 'cjw', 'cjx', 'cjy', 'cjz', 'ckw', 'ckx', 'cky', 'ckz', 'clw', 'clx', 'cly', 'clz']\n"
     ]
    }
   ],
   "source": [
    "from typing import List   \n",
    "\n",
    "class LetterCombinations:\n",
    "  def solutions(self, digits: str) -> List[str]:\n",
    "    self._keypad = ['','','abc','def','ghi','jkl','mno','pqrs','tuv','wxyz']\n",
    "    \n",
    "    if len(digits) == 0 :\n",
    "      return []   \n",
    "    \n",
    "    self._digits = digits\n",
    "    self._comb = []    \n",
    "    self._BT(index=0,crntStr=[])\n",
    "    return self._comb\n",
    "    \n",
    "  def _BT(self, index:int, crntStr: List[str]):\n",
    "    if index == len(self._digits):\n",
    "      comb = ''.join(crntStr)\n",
    "      self._comb.append(comb)\n",
    "      return\n",
    "    \n",
    "    num = int(self._digits[index])\n",
    "    chars = self._keypad[num]\n",
    "    for char in chars:\n",
    "      crntStr.append(char)\n",
    "      self._BT(index+1, crntStr)      \n",
    "      crntStr.pop()\n",
    "\n",
    "letterComb = LetterCombinations()\n",
    "print(letterComb.solutions(digits='259'))"
   ]
  }
 ],
 "metadata": {
  "interpreter": {
   "hash": "aee8b7b246df8f9039afb4144a1f6fd8d2ca17a180786b69acc140d282b71a49"
  },
  "kernelspec": {
   "display_name": "Python 3.9.9 64-bit",
   "language": "python",
   "name": "python3"
  },
  "language_info": {
   "codemirror_mode": {
    "name": "ipython",
    "version": 3
   },
   "file_extension": ".py",
   "mimetype": "text/x-python",
   "name": "python",
   "nbconvert_exporter": "python",
   "pygments_lexer": "ipython3",
   "version": "3.9.9"
  },
  "orig_nbformat": 4
 },
 "nbformat": 4,
 "nbformat_minor": 2
}

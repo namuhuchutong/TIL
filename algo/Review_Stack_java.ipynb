{
 "cells": [
  {
   "cell_type": "code",
   "execution_count": 1,
   "metadata": {},
   "outputs": [],
   "source": [
    "class MinStack {\n",
    "\n",
    "    private List<Integer> stack;\n",
    "    private List<Integer> minStack;\n",
    "    private int topVal;\n",
    "    \n",
    "    public MinStack() {\n",
    "        this.stack = new ArrayList<>();\n",
    "        this.minStack = new ArrayList<>();\n",
    "        this.topVal = 0;\n",
    "    }\n",
    "    \n",
    "    public void push(int val) {\n",
    "        this.stack.add(val);\n",
    "        \n",
    "        if (this.minStack.isEmpty()) {\n",
    "            this.minStack.add(val);\n",
    "        }\n",
    "        else if(val < this.minStack.get(topVal)) {\n",
    "            this.minStack.add(val);\n",
    "        }\n",
    "        else {\n",
    "            int poppedVal = this.minStack.get(topVal);\n",
    "            this.minStack.add(poppedVal);\n",
    "        }\n",
    "        \n",
    "        topVal += 1;\n",
    "    }\n",
    "    \n",
    "    public void pop() {\n",
    "        this.stack.remove(topVal);\n",
    "        this.minStack.remove(topVal);\n",
    "        topVal -= 1;\n",
    "    }\n",
    "    \n",
    "    public int top() {\n",
    "        return this.topVal;\n",
    "    }\n",
    "    \n",
    "    public int getMin() {\n",
    "        return this.minStack.get(this.topVal);\n",
    "    }\n",
    "}"
   ]
  }
 ],
 "metadata": {
  "kernelspec": {
   "display_name": "Java",
   "language": "java",
   "name": "java"
  },
  "language_info": {
   "codemirror_mode": "java",
   "file_extension": ".jshell",
   "mimetype": "text/x-java-source",
   "name": "Java",
   "pygments_lexer": "java",
   "version": "11.0.10+9-LTS"
  },
  "orig_nbformat": 4
 },
 "nbformat": 4,
 "nbformat_minor": 2
}
